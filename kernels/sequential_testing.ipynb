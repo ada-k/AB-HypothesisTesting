{
 "cells": [
  {
   "cell_type": "markdown",
   "metadata": {
    "colab_type": "text",
    "id": "BX5KExEptA-Z"
   },
   "source": [
    "## Sequential A/B Testing\n",
    "\n",
    "A/B testing (also known as split testing) is the process of comparing two versions of an asset and measuring the difference in performance.\n",
    "\n",
    "Involves conducting the test on 2 versions of a single variable at a time. It goes with the belief that not more than one factor should be varied at the same time.\n",
    "\n",
    "**Case Overview**:\n",
    "\n",
    "SmartAd is a mobile first advertiser agency. \n",
    "\n",
    "The company provides an additional service called Brand Impact Optimiser (BIO), a lightweight questionnaire, served with every campaign to determine the impact of the ad they design.\n",
    "\n",
    "The task at hand is to design a reliable hypothesis testing algorithm for the BIO service and determine whether the recent advertising campaign resulted in a significant lift in brand awareness.\n",
    "\n",
    "**Data**:\n",
    "\n",
    "The BIO data for this project is a “Yes” and “No” response of online users to the following question:\n",
    "\n",
    "\n",
    "`Q: Do you know the brand SmartAd?`\n",
    "\n",
    "      Yes\n",
    "      No\n",
    "\n",
    "The data has the following columns:\n",
    " **auction_id**,  **experiment**, **date**, **hour**, **device_make**, **platform_os**, **browser**, **yes**, **no**.\n"
   ]
  },
  {
   "cell_type": "markdown",
   "metadata": {
    "colab_type": "text",
    "id": "eDj4uPKGDgQs"
   },
   "source": [
    "## Table of Contents\n",
    "1. [Libraries](#Libraries)\n",
    "2. [Dataset](#Dataset)\n",
    "3. [Sample conditional SPRT](#Sample-conditional-SPRT)\n",
    "\n",
    "    3.1 [conditional SPRT function](#conditional-SPRT-function)\n",
    "\n",
    "    3.2 [Boundaries and Plots](#Boundaries-and-Plots)\n",
    "\n",
    "    3.3 [Data Transformation](#Data-Transformation)\n",
    "\n",
    "    3.4 [Data Summary plot and print functions](#Data-Summary-plot-and-print-functions)\n",
    "\n",
    "    3.5 [Testing](#Testing)"
   ]
  },
  {
   "cell_type": "markdown",
   "metadata": {
    "colab_type": "text",
    "id": "4NseoBAWtAsB"
   },
   "source": [
    "### 1. Libraries"
   ]
  },
  {
   "cell_type": "code",
   "execution_count": 1,
   "metadata": {
    "colab": {
     "base_uri": "https://localhost:8080/",
     "height": 72
    },
    "colab_type": "code",
    "id": "A-uNOBuFbRdv",
    "outputId": "2e2769d9-3b60-409d-a059-1c7028191a01"
   },
   "outputs": [
    {
     "name": "stderr",
     "output_type": "stream",
     "text": [
      "/usr/local/lib/python3.6/dist-packages/statsmodels/tools/_testing.py:19: FutureWarning: pandas.util.testing is deprecated. Use the functions in the public API at pandas.testing instead.\n",
      "  import pandas.util.testing as tm\n"
     ]
    }
   ],
   "source": [
    "from pydrive.auth import GoogleAuth\n",
    "from pydrive.drive import GoogleDrive\n",
    "from google.colab import auth\n",
    "from oauth2client.client import GoogleCredentials\n",
    "\n",
    "import pandas as pd\n",
    "import numpy as np\n",
    "import math\n",
    "from scipy.stats import binom\n",
    "from math import *\n",
    "\n",
    "\n",
    "import seaborn as sns\n",
    "import matplotlib.pyplot as plt\n",
    "\n",
    "import json\n",
    "\n",
    "import warnings\n",
    "def ignore_warn(*args, **kwargs):\n",
    "    pass\n",
    "warnings.warn = ignore_warn "
   ]
  },
  {
   "cell_type": "markdown",
   "metadata": {
    "colab_type": "text",
    "id": "5KDfhxY3tFP4"
   },
   "source": [
    "### 2. Dataset"
   ]
  },
  {
   "cell_type": "code",
   "execution_count": 2,
   "metadata": {
    "colab": {},
    "colab_type": "code",
    "id": "f2abb-wg-eHb"
   },
   "outputs": [],
   "source": [
    "# function to fetch data\n",
    "def fetch_data(id, file_name):\n",
    "  auth.authenticate_user()\n",
    "  gauth = GoogleAuth()\n",
    "  gauth.credentials = GoogleCredentials.get_application_default()\n",
    "  drive = GoogleDrive(gauth)\n",
    "\n",
    "  downloaded = drive.CreateFile({'id':id}) \n",
    "  downloaded.GetContentFile(file_name)\n",
    "\n",
    "  data=pd.read_csv(file_name)\n",
    "  return data"
   ]
  },
  {
   "cell_type": "code",
   "execution_count": 3,
   "metadata": {
    "colab": {
     "base_uri": "https://localhost:8080/",
     "height": 206
    },
    "colab_type": "code",
    "id": "xtFkUyfI_bSa",
    "outputId": "40e57774-b3d4-49ec-a79e-83f0ca1c7e08"
   },
   "outputs": [
    {
     "data": {
      "text/html": [
       "<div>\n",
       "<style scoped>\n",
       "    .dataframe tbody tr th:only-of-type {\n",
       "        vertical-align: middle;\n",
       "    }\n",
       "\n",
       "    .dataframe tbody tr th {\n",
       "        vertical-align: top;\n",
       "    }\n",
       "\n",
       "    .dataframe thead th {\n",
       "        text-align: right;\n",
       "    }\n",
       "</style>\n",
       "<table border=\"1\" class=\"dataframe\">\n",
       "  <thead>\n",
       "    <tr style=\"text-align: right;\">\n",
       "      <th></th>\n",
       "      <th>auction_id</th>\n",
       "      <th>experiment</th>\n",
       "      <th>date</th>\n",
       "      <th>hour</th>\n",
       "      <th>device_make</th>\n",
       "      <th>platform_os</th>\n",
       "      <th>browser</th>\n",
       "      <th>yes</th>\n",
       "      <th>no</th>\n",
       "    </tr>\n",
       "  </thead>\n",
       "  <tbody>\n",
       "    <tr>\n",
       "      <th>0</th>\n",
       "      <td>0008ef63-77a7-448b-bd1e-075f42c55e39</td>\n",
       "      <td>exposed</td>\n",
       "      <td>2020-07-10</td>\n",
       "      <td>8</td>\n",
       "      <td>Generic Smartphone</td>\n",
       "      <td>6</td>\n",
       "      <td>Chrome Mobile</td>\n",
       "      <td>0</td>\n",
       "      <td>0</td>\n",
       "    </tr>\n",
       "    <tr>\n",
       "      <th>1</th>\n",
       "      <td>000eabc5-17ce-4137-8efe-44734d914446</td>\n",
       "      <td>exposed</td>\n",
       "      <td>2020-07-07</td>\n",
       "      <td>10</td>\n",
       "      <td>Generic Smartphone</td>\n",
       "      <td>6</td>\n",
       "      <td>Chrome Mobile</td>\n",
       "      <td>0</td>\n",
       "      <td>0</td>\n",
       "    </tr>\n",
       "    <tr>\n",
       "      <th>2</th>\n",
       "      <td>0016d14a-ae18-4a02-a204-6ba53b52f2ed</td>\n",
       "      <td>exposed</td>\n",
       "      <td>2020-07-05</td>\n",
       "      <td>2</td>\n",
       "      <td>E5823</td>\n",
       "      <td>6</td>\n",
       "      <td>Chrome Mobile WebView</td>\n",
       "      <td>0</td>\n",
       "      <td>1</td>\n",
       "    </tr>\n",
       "    <tr>\n",
       "      <th>3</th>\n",
       "      <td>00187412-2932-4542-a8ef-3633901c98d9</td>\n",
       "      <td>control</td>\n",
       "      <td>2020-07-03</td>\n",
       "      <td>15</td>\n",
       "      <td>Samsung SM-A705FN</td>\n",
       "      <td>6</td>\n",
       "      <td>Facebook</td>\n",
       "      <td>0</td>\n",
       "      <td>0</td>\n",
       "    </tr>\n",
       "    <tr>\n",
       "      <th>4</th>\n",
       "      <td>001a7785-d3fe-4e11-a344-c8735acacc2c</td>\n",
       "      <td>control</td>\n",
       "      <td>2020-07-03</td>\n",
       "      <td>15</td>\n",
       "      <td>Generic Smartphone</td>\n",
       "      <td>6</td>\n",
       "      <td>Chrome Mobile</td>\n",
       "      <td>0</td>\n",
       "      <td>0</td>\n",
       "    </tr>\n",
       "  </tbody>\n",
       "</table>\n",
       "</div>"
      ],
      "text/plain": [
       "                             auction_id experiment  ... yes  no\n",
       "0  0008ef63-77a7-448b-bd1e-075f42c55e39    exposed  ...   0   0\n",
       "1  000eabc5-17ce-4137-8efe-44734d914446    exposed  ...   0   0\n",
       "2  0016d14a-ae18-4a02-a204-6ba53b52f2ed    exposed  ...   0   1\n",
       "3  00187412-2932-4542-a8ef-3633901c98d9    control  ...   0   0\n",
       "4  001a7785-d3fe-4e11-a344-c8735acacc2c    control  ...   0   0\n",
       "\n",
       "[5 rows x 9 columns]"
      ]
     },
     "execution_count": 3,
     "metadata": {
      "tags": []
     },
     "output_type": "execute_result"
    }
   ],
   "source": [
    "# fetch the data\n",
    "data = fetch_data('1YSn01vvlHKQaAIBtwIXRNd-oTaTuDN09', 'ABAdRecall.csv')\n",
    "data.head()"
   ]
  },
  {
   "cell_type": "markdown",
   "metadata": {
    "colab_type": "text",
    "id": "bWm-8BR7t6B7"
   },
   "source": [
    "### 3. Sample conditional SPRT"
   ]
  },
  {
   "cell_type": "markdown",
   "metadata": {
    "colab_type": "text",
    "id": "4NLjmQlWro5d"
   },
   "source": [
    "#### 3.1 conditional SPRT function"
   ]
  },
  {
   "cell_type": "code",
   "execution_count": 4,
   "metadata": {
    "cellView": "both",
    "colab": {},
    "colab_type": "code",
    "id": "GZRFd2kTalh3"
   },
   "outputs": [],
   "source": [
    "def ConditionalSPRT(x,y,t1,alpha=0.05,beta=0.10,stop=None):\n",
    "        if t1<=1:\n",
    "            printLog('warning',\"Odd ratio should exceed 1.\")\n",
    "        if (alpha >0.5) | (beta >0.5):\n",
    "            printLog('warning',\"Unrealistic values of alpha or beta were passed.\"\n",
    "                     +\" You should have good reason to use large alpha & beta values\")\n",
    "        if stop!=None:\n",
    "            stop=math.floor(n0)\n",
    "\n",
    "        def comb(n, k):\n",
    "            return factorial(n) // factorial(k) // factorial(n - k)\n",
    "        \n",
    "        def lchoose(b, j):\n",
    "            a=[]\n",
    "            if (type(j) is list) | (isinstance(j,np.ndarray)==True):\n",
    "                if len(j)<2:\n",
    "                    j=j[0]\n",
    "            if (type(j) is list) | (isinstance(j,np.ndarray)==True):\n",
    "                for k in j:\n",
    "                    n=b\n",
    "                    if (0 <= k) & (k<= n):\n",
    "                        a.append(math.log(comb(n,k)))\n",
    "                    else:\n",
    "                        a.append(0)\n",
    "            else:\n",
    "                n=b\n",
    "                k=j\n",
    "                if (0 <= k) & (k<= n):\n",
    "                    a.append(math.log(comb(n,k)))\n",
    "                else:\n",
    "                    a.append(0)\n",
    "\n",
    "            return np.array(a)\n",
    "\n",
    "        def g(x,r,n,t1,t0=1):\n",
    "            return -math.log(h(x,r,n,t1))+math.log(h(x,r,n,t0))\n",
    "\n",
    "        def h(x,r,n,t=1):\n",
    "            return f(r,n,t,offset=ftermlog(x,r,n,t))\n",
    "\n",
    "        def f(r,n,t,offset=0):\n",
    "            upper=max(0,r-n)\n",
    "            lower=min(n,r)\n",
    "            rng=list(range(upper,lower+1))\n",
    "            return np.sum(fterm(rng,r,n,t,offset))\n",
    "\n",
    "        def fterm(j,r,n,t,offset=0):\n",
    "            ftlog=ftermlog(j,r,n,t,offset)\n",
    "            return np.array([math.exp(ex) for ex in ftlog])\n",
    "\n",
    "        def ftermlog(j,r,n,t,offset=0):\n",
    "            xx=r-j\n",
    "            lch=lchoose(n,j)\n",
    "            lchdiff=lchoose(n,xx)\n",
    "            lg=np.array(j)*math.log(t)\n",
    "            lgsum=lch+lchdiff\n",
    "            lgsum2=lgsum+lg\n",
    "            lgdiff=lgsum2-offset\n",
    "\n",
    "            return lgdiff\n",
    "\n",
    "        def logf(r,n,t,offset=0):\n",
    "\n",
    "            z=f(r,n,t,offset)\n",
    "            if z>0:\n",
    "                return math.log(z)\n",
    "            else:\n",
    "                return np.nan\n",
    "\n",
    "        def clowerUpper(r,n,t1c,t0=1,alpha=0.05,beta=0.10):\n",
    "            offset=ftermlog(math.ceil(r/2),r,n,t1c)\n",
    "            z=logf(r,n,t1c,logf(r,n,t0,offset)+offset)\n",
    "            a=-math.log(alpha/(1-beta))\n",
    "            b=math.log(beta/(1-alpha))\n",
    "            lower=b\n",
    "            upper=1+a\n",
    "            return (np.array([lower,upper])+z)/math.log(t1c/t0)\n",
    "            \n",
    "        l=math.log(beta/(1-alpha))\n",
    "        u=-math.log(alpha/(1-beta))\n",
    "        sample_size=min(len(x),len(y))\n",
    "        n=np.array(range(1,sample_size+1))\n",
    "\n",
    "        if stop!=None:\n",
    "            n=np.array([z for z in n if z<=stop])\n",
    "        x1=np.cumsum(x[n-1])\n",
    "        r=x1+np.cumsum(y[n-1])\n",
    "        stats=np.array(list(map(g,x1, r, n, [t1]*len(x1)))) #recurcively calls g\n",
    "\n",
    "        clu=list(map(clowerUpper,r,n,[t1]*len(r),[1]*len(r),[alpha]*len(r), [beta]*len(r)))\n",
    "        limits=[]\n",
    "        for v in clu:\n",
    "            inArray=[]\n",
    "            for vin in v:\n",
    "                inArray.append(math.floor(vin))\n",
    "            limits.append(np.array(inArray))\n",
    "        limits=np.array(limits)\n",
    "\n",
    "        k=np.where((stats>=u) | (stats<=l))\n",
    "        cvalues=stats[k]\n",
    "        if cvalues.shape[0]<1:\n",
    "            k= np.nan\n",
    "            outcome='Unable to conclude.Needs more sample.'\n",
    "        else:\n",
    "            k=np.min(k)\n",
    "            if stats[k]>=u:\n",
    "                outcome=f'Exposed group produced a statistically significant increase.'\n",
    "            else:\n",
    "                outcome='There is no statistically significant difference between two test groups'\n",
    "        if (stop!=None) & (k==np.nan):\n",
    "            c1=clowerUpper(r,stop,t1,alpha,beta)\n",
    "            c1=math.floor(np.mean(c1)-0.5)\n",
    "            if x1[n0]<=c1:\n",
    "                truncate_decision='h0'\n",
    "                outcome='Maximum Limit Decision. The aproximate decision point shows their is no statistically significant difference between two test groups'\n",
    "            else:\n",
    "                truncate_decision='h1'\n",
    "                outcome=f'Maximum Limit Decision. The aproximate decision point shows exposed group produced a statistically significant increase.'\n",
    "            truncated=stop\n",
    "        else:\n",
    "            truncate_decision='Non'\n",
    "            truncated=np.nan\n",
    "        return (outcome,n, k,l,u,truncated,truncate_decision,x1,r,stats,limits)"
   ]
  },
  {
   "cell_type": "markdown",
   "metadata": {
    "colab_type": "text",
    "id": "LjumoLYUt3sU"
   },
   "source": [
    "#### 3.2 Boundaries and Plots"
   ]
  },
  {
   "cell_type": "code",
   "execution_count": 14,
   "metadata": {
    "colab": {},
    "colab_type": "code",
    "id": "Dj_QuUA_Z-gV"
   },
   "outputs": [],
   "source": [
    "class SequentialTest:\n",
    "  def __init__(t1 = 2, alpha = 0.05, beta = 0.1, stop = None):\n",
    "    '''\n",
    "    initialise startup variables\n",
    "    '''\n",
    "    if t1<=1:\n",
    "        printLog('warning',\"Odd ratio should exceed 1.\")\n",
    "    if (alpha >0.5) | (beta >0.5):\n",
    "        printLog('warning',\"Unrealistic values of alpha or beta were passed.\"\n",
    "                  +\" You should have good reason to use large alpha & beta values\")\n",
    "    if stop!=None:\n",
    "        stop=math.floor(n0)\n",
    "  \n",
    "  def computeBoundaries(self,alpha, beta):\n",
    "    '''\n",
    "    This function shoud compute boundaries \n",
    "    '''\n",
    "    a=math.log(beta/(1-alpha))\n",
    "    b=math.log((1 - beta)/alpha)\n",
    "    return a, b\n",
    "\n",
    "  def plotTest(self):\n",
    "    '''\n",
    "    showing the cumulative statistical test (e.g., log probability ratio) and the upper and lower limits.\n",
    "    '''\n",
    "\n",
    "  def plotBoundaries(self, exposed):\n",
    "    '''cumulative sums of exposed successes, bounded by the critical limits.\n",
    "    '''\n",
    "    \n"
   ]
  },
  {
   "cell_type": "code",
   "execution_count": 38,
   "metadata": {
    "colab": {
     "base_uri": "https://localhost:8080/",
     "height": 34
    },
    "colab_type": "code",
    "id": "fPmBI-Xf6F5J",
    "outputId": "4e7fbde9-0d31-4e09-de6b-7e7abe9ab4e6"
   },
   "outputs": [
    {
     "data": {
      "text/plain": [
       "2.8903717578961645"
      ]
     },
     "execution_count": 38,
     "metadata": {
      "tags": []
     },
     "output_type": "execute_result"
    }
   ],
   "source": [
    "# e_df = pd.DataFrame(exposed)\n",
    "# a = e_df.cumsum()\n",
    "# a.columns = ['value']\n",
    "# sns.lineplot(x = a.index, y = a.value)\n",
    "b"
   ]
  },
  {
   "cell_type": "markdown",
   "metadata": {
    "colab_type": "text",
    "id": "C2-FCWWbyrGR"
   },
   "source": [
    "#### 3.3  Data Transformation"
   ]
  },
  {
   "cell_type": "code",
   "execution_count": 16,
   "metadata": {
    "colab": {},
    "colab_type": "code",
    "id": "tD8U5QF4ydEP"
   },
   "outputs": [],
   "source": [
    "def transform_data(df):\n",
    "  '''\n",
    "  segment data into exposed and control groups\n",
    "  consider that SmartAd runs the experment hourly, group data into hours. \n",
    "      Hint: create new column to hold date+hour and use df.column.map(lambda x:  pd.Timestamp(x,tz=None).strftime('%Y-%m-%d:%H'))\n",
    "  create two dataframes with bernouli series 1 for posetive(yes) and 0 for negative(no)\n",
    "    Hint: Given engagement(sum of yes and no until current observation as an array) and success (yes count as an array), the method generates random binomial distribution\n",
    "        #Example\n",
    "          engagement = np.array([5, 3, 3])\n",
    "          yes = np.array([2, 0, 3])       \n",
    "        Output is \"[1] 1 0 1 0 0 0 0 0 1 1 1\", showing a binary array of 5+3+3 values\n",
    "        of which 2 of the first 5 are ones, 0 of the next 3 are ones, and all 3 of\n",
    "        the last 3 are ones where the position the ones is randomly distributed within each group.\n",
    "  '''\n",
    "\n",
    "  # split dataset to control and exposed groups\n",
    "  exposed = df.loc[df.experiment == 'exposed']  #exposed set\n",
    "  control = df.loc[df.experiment == 'control']  #control set\n",
    "\n",
    "  #datehour\n",
    "  exposed['dateHour'] = pd.to_datetime(exposed.date)\n",
    "  exposed.dateHour += pd.to_timedelta(exposed.hour, unit='h')\n",
    "  exposed.dateHour = exposed.dateHour.map(lambda x:  pd.Timestamp(x,tz=None).strftime('%Y-%m-%d:%H'))\n",
    "\n",
    "  control['dateHour'] = pd.to_datetime(control.date)\n",
    "  control.dateHour += pd.to_timedelta(control.hour, unit='h')\n",
    "  control.dateHour = control.dateHour.map(lambda x:  pd.Timestamp(x,tz=None).strftime('%Y-%m-%d:%H'))\n",
    "\n",
    "  # groupby datehour\n",
    "  df_exposed = exposed.groupby('dateHour').agg({'auction_id':'count', 'device_make':'count', 'platform_os':'count', 'browser':'count', 'yes':'sum', 'no':'sum'})\n",
    "  df_control = control.groupby('dateHour').agg({'auction_id':'count', 'device_make':'count', 'platform_os':'count', 'browser':'count', 'yes':'sum', 'no':'sum'})\n",
    "\n",
    "  # engagement\n",
    "  df_exposed['engagement'] = df_exposed['yes'] + df_exposed['no']\n",
    "  df_control['engagement'] = df_control['yes'] + df_control['no']\n",
    "\n",
    "  # success\n",
    "  df_exposed['success'] = df_exposed['yes'] \n",
    "  df_control['success'] = df_control['yes'] \n",
    "\n",
    "  # p of success\n",
    "  global p_e, p_c\n",
    "  p_e = sum(df_exposed['success']) / sum(df_exposed['engagement'])\n",
    "  p_c = sum(df_control['success']) / sum(df_control['engagement'])\n",
    "\n",
    "  # engagement and success to arrays then  p\n",
    "  engagement_e = df_exposed['engagement'].to_numpy()\n",
    "  engagement_c = df_control['engagement'].to_numpy()\n",
    "\n",
    "\n",
    "  # data generation\n",
    "  e = np.random.choice([0, 1], size=((np.sum(engagement_e)),), p=[p_e, 1-p_e])\n",
    "  c = np.random.choice([0, 1], size=((np.sum(engagement_c)),), p=[p_c, 1-p_c])\n",
    "\n",
    "  return e,c\n"
   ]
  },
  {
   "cell_type": "markdown",
   "metadata": {
    "colab_type": "text",
    "id": "pvdXb0PTvYN5"
   },
   "source": [
    "#### 3.4 Data Summary plot and print functions"
   ]
  },
  {
   "cell_type": "code",
   "execution_count": 12,
   "metadata": {
    "colab": {},
    "colab_type": "code",
    "id": "F0qmKWVHq7aU"
   },
   "outputs": [],
   "source": [
    "def plotDataSummary(exposed, control):\n",
    "  'This function plots cummulated success'\n",
    "  fig, ax = plt.subplots(figsize=(10,8))\n",
    "  kwargs = {'cumulative': True}\n",
    "  sns.distplot(control.success, hist_kws=kwargs, kde_kws=kwargs, color = 'black')\n",
    "  sns.distplot(exposed.success, hist_kws=kwargs, kde_kws=kwargs, color = 'green')\n",
    "  plt.title('A histogram indicating cummulative distributions of success in the 2 groups black: control, green:exposed')\n",
    "  plt.ylabel('frequency')\n",
    "  plt.xlabel('cummulative success')\n",
    "\n",
    "def pretyPrintTestResult(self, test):\n",
    "  '''This function print final test result. Json format is recommended. For example\n",
    "  {\n",
    "    \"name\": \"\",\n",
    "    \"engagementCountControl\": ,\n",
    "    \"engagementCountExposed\": ,\n",
    "    \"positiveCountControl\": ,\n",
    "    \"positiveCountExposed\": ,\n",
    "    \"ControlSuccessProbability\": ,\n",
    "    \"ExposedSuccessProbability\": ,\n",
    "    \"basePositiveRate\": ,\n",
    "    \"significanceSign\": \".\",\n",
    "    \"lift\": ,\n",
    "    \"oddRatio\": ,\n",
    "    \"exactSuccessOddRate\":,\n",
    "    \"confidenceIntervalLevel\": ,\n",
    "    \"alpha\": ,\n",
    "    \"beta\": ,\n",
    "    \"power\": ,\n",
    "    \"criticalValue\": ,\n",
    "    \"lower critical(a)\": \n",
    "    \"upper critical(b)\": ,\n",
    "    \"TotalObservation\": \n",
    "  }'''"
   ]
  },
  {
   "cell_type": "markdown",
   "metadata": {
    "colab_type": "text",
    "id": "ch4WNnx8vllI"
   },
   "source": [
    "#### 3.5 Testing"
   ]
  },
  {
   "cell_type": "markdown",
   "metadata": {
    "colab_type": "text",
    "id": "UE6GUnt4v5hV"
   },
   "source": [
    "##### 3.5.1 Parameters"
   ]
  },
  {
   "cell_type": "code",
   "execution_count": 18,
   "metadata": {
    "colab": {},
    "colab_type": "code",
    "id": "JIOGgResa5B-"
   },
   "outputs": [],
   "source": [
    "'statistical parameters for SPRT'\n",
    "alpha = 0.05\n",
    "beta = 0.1\n",
    "\n",
    "'Compute statistical lower and upper decision points such as a and b'\n",
    "st = SequentialTest()\n",
    "a, b = st.computeBoundaries(alpha = alpha, beta = beta)\n",
    "\n",
    "##data processing here\n",
    "exposed,control=transform_data(data)\n",
    "\n",
    "# odd ratio\n",
    "odd_ratio=(p_e/(1-p_e))/(p_c/(1-p_c))"
   ]
  },
  {
   "cell_type": "markdown",
   "metadata": {
    "colab_type": "text",
    "id": "iqfwyUZ4K6Fw"
   },
   "source": [
    "##### 3.5.2 Testing"
   ]
  },
  {
   "cell_type": "code",
   "execution_count": 19,
   "metadata": {
    "colab": {},
    "colab_type": "code",
    "id": "Xm16Jf9KEMsT"
   },
   "outputs": [],
   "source": [
    "test = ConditionalSPRT(x = exposed,y = control,t1 = odd_ratio, alpha=alpha,beta=alpha)"
   ]
  },
  {
   "cell_type": "code",
   "execution_count": 20,
   "metadata": {
    "colab": {
     "base_uri": "https://localhost:8080/",
     "height": 36
    },
    "colab_type": "code",
    "id": "_yzzTNAUGeK4",
    "outputId": "a0ad4e15-4202-4f83-a74b-a89729cd3e32"
   },
   "outputs": [
    {
     "data": {
      "application/vnd.google.colaboratory.intrinsic+json": {
       "type": "string"
      },
      "text/plain": [
       "'Unable to conclude.Needs more sample.'"
      ]
     },
     "execution_count": 20,
     "metadata": {
      "tags": []
     },
     "output_type": "execute_result"
    }
   ],
   "source": [
    "test[0]"
   ]
  },
  {
   "cell_type": "markdown",
   "metadata": {
    "colab_type": "text",
    "id": "oit8pRzfCWxc"
   },
   "source": [
    "##### 3.5.3 Plots"
   ]
  },
  {
   "cell_type": "code",
   "execution_count": 39,
   "metadata": {
    "colab": {},
    "colab_type": "code",
    "id": "PgEdQClvzktb"
   },
   "outputs": [],
   "source": [
    "!pip install sprt\n",
    "import sprt"
   ]
  },
  {
   "cell_type": "code",
   "execution_count": null,
   "metadata": {
    "colab": {},
    "colab_type": "code",
    "id": "RGIe5JRQCflx"
   },
   "outputs": [],
   "source": [
    "##plot data summary\n",
    "# plotDataSummary(exposed,control)\n",
    "\n",
    "# 'Print test result.'\n",
    "# pretyPrintTestResult(resultObject)"
   ]
  },
  {
   "cell_type": "code",
   "execution_count": 40,
   "metadata": {
    "colab": {},
    "colab_type": "code",
    "id": "6H46GIhACv0y"
   },
   "outputs": [],
   "source": [
    "# generate the requirements file\n",
    "!pip freeze > requirements.txt"
   ]
  }
 ],
 "metadata": {
  "colab": {
   "collapsed_sections": [],
   "name": "sequential_testing.ipynb",
   "provenance": [],
   "toc_visible": true
  },
  "kernelspec": {
   "display_name": "Python 3",
   "language": "python",
   "name": "python3"
  },
  "language_info": {
   "codemirror_mode": {
    "name": "ipython",
    "version": 3
   },
   "file_extension": ".py",
   "mimetype": "text/x-python",
   "name": "python",
   "nbconvert_exporter": "python",
   "pygments_lexer": "ipython3",
   "version": "3.7.4"
  }
 },
 "nbformat": 4,
 "nbformat_minor": 4
}
