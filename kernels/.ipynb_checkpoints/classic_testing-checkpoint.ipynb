{
  "nbformat": 4,
  "nbformat_minor": 0,
  "metadata": {
    "colab": {
      "name": "classic_a_b_testing_latest.ipynb",
      "provenance": [],
      "collapsed_sections": [],
      "toc_visible": true
    },
    "kernelspec": {
      "name": "python3",
      "display_name": "Python 3"
    }
  },
  "cells": [
    {
      "cell_type": "markdown",
      "metadata": {
        "id": "Y1CXL1QwvRHA",
        "colab_type": "text"
      },
      "source": [
        "## Classic A/B Testing\n",
        "\n",
        "A/B testing (also known as split testing) is the process of comparing two versions of an asset and measuring the difference in performance.\n",
        "\n",
        "**Case Overview**:\n",
        "\n",
        "SmartAd is a mobile first advertiser agency. \n",
        "\n",
        "The company provides an additional service called Brand Impact Optimiser (BIO), a lightweight questionnaire, served with every campaign to determine the impact of the ad they design.\n",
        "\n",
        "The task at hand is to design a reliable hypothesis testing algorithm for the BIO service and determine whether the recent advertising campaign resulted in a significant lift in brand awareness.\n",
        "\n",
        "**Data**:\n",
        "\n",
        "The BIO data for this project is a “Yes” and “No” response of online users to the following question:\n",
        "\n",
        "\n",
        "`Q: Do you know the brand SmartAd?`\n",
        "\n",
        "      Yes\n",
        "      No\n",
        "\n",
        "The data has the following columns:\n",
        " **auction_id**,  **experiment**, **date**, **hour**, **device_make**, **platform_os**, **browser**, **yes**, **no**.\n"
      ]
    },
    {
      "cell_type": "markdown",
      "metadata": {
        "id": "1vx_kUZzE9Qm",
        "colab_type": "text"
      },
      "source": [
        "## Table of Contents\n",
        "1. [Libraries](#Libraries)\n",
        "2. [Dataset](#Dataset)\n",
        "3. [A/B Testing](#A/B-Testing)\n",
        "\n",
        "    3.1 [Metrics Definition](#Metrics-Definition)\n",
        "\n",
        "    3.2 [Experiment Sizing](#Experiment-Sizing)\n",
        "\n",
        "    3.3 [Collected Data](#Collected-Data)\n",
        "\n",
        "    3.4 [Effect Size](#Examining-effect-size)\n"
      ]
    },
    {
      "cell_type": "markdown",
      "metadata": {
        "id": "zgOGtXFfUh9-",
        "colab_type": "text"
      },
      "source": [
        "## 1. Libraries"
      ]
    },
    {
      "cell_type": "code",
      "metadata": {
        "id": "sOoDHVtEUNxA",
        "colab_type": "code",
        "colab": {
          "base_uri": "https://localhost:8080/",
          "height": 72
        },
        "outputId": "05b12dc4-a3e7-4039-ccfc-c673785a58b4"
      },
      "source": [
        "# data preprocessing and linear algebra\n",
        "import pandas as pd\n",
        "import numpy as np\n",
        "\n",
        "# plotting libraries\n",
        "import seaborn as sns\n",
        "import matplotlib.pyplot as plt\n",
        "\n",
        "# statistics and math\n",
        "from scipy import stats\n",
        "from scipy.stats import skew, norm\n",
        "import math\n",
        "\n",
        "# google authentication\n",
        "from pydrive.auth import GoogleAuth\n",
        "from pydrive.drive import GoogleDrive\n",
        "from google.colab import auth\n",
        "from oauth2client.client import GoogleCredentials\n",
        "\n",
        "# others\n",
        "import datetime\n",
        "\n",
        "# ignore warnings\n",
        "import warnings\n",
        "def ignore_warn(*args, **kwargs):\n",
        "    pass\n",
        "warnings.warn = ignore_warn "
      ],
      "execution_count": 2,
      "outputs": [
        {
          "output_type": "stream",
          "text": [
            "/usr/local/lib/python3.6/dist-packages/statsmodels/tools/_testing.py:19: FutureWarning: pandas.util.testing is deprecated. Use the functions in the public API at pandas.testing instead.\n",
            "  import pandas.util.testing as tm\n"
          ],
          "name": "stderr"
        }
      ]
    },
    {
      "cell_type": "markdown",
      "metadata": {
        "id": "3RmchfnqUkXH",
        "colab_type": "text"
      },
      "source": [
        "## 2. Dataset"
      ]
    },
    {
      "cell_type": "code",
      "metadata": {
        "id": "q9b1xY-YUm0v",
        "colab_type": "code",
        "colab": {}
      },
      "source": [
        "# function to fetch data\n",
        "def fetch_data(id, file_name):\n",
        "  auth.authenticate_user()\n",
        "  gauth = GoogleAuth()\n",
        "  gauth.credentials = GoogleCredentials.get_application_default()\n",
        "  drive = GoogleDrive(gauth)\n",
        "\n",
        "  downloaded = drive.CreateFile({'id':id}) \n",
        "  downloaded.GetContentFile(file_name)\n",
        "\n",
        "  data=pd.read_csv(file_name)\n",
        "  return data"
      ],
      "execution_count": 3,
      "outputs": []
    },
    {
      "cell_type": "code",
      "metadata": {
        "id": "1g7Svs9NyCaJ",
        "colab_type": "code",
        "colab": {
          "base_uri": "https://localhost:8080/",
          "height": 206
        },
        "outputId": "389c6cd4-72da-4d58-a370-2bfa0f5ce96e"
      },
      "source": [
        "# fetch the data\n",
        "data = fetch_data('1YSn01vvlHKQaAIBtwIXRNd-oTaTuDN09', 'ABAdRecall.csv')\n",
        "data.head()"
      ],
      "execution_count": 4,
      "outputs": [
        {
          "output_type": "execute_result",
          "data": {
            "text/html": [
              "<div>\n",
              "<style scoped>\n",
              "    .dataframe tbody tr th:only-of-type {\n",
              "        vertical-align: middle;\n",
              "    }\n",
              "\n",
              "    .dataframe tbody tr th {\n",
              "        vertical-align: top;\n",
              "    }\n",
              "\n",
              "    .dataframe thead th {\n",
              "        text-align: right;\n",
              "    }\n",
              "</style>\n",
              "<table border=\"1\" class=\"dataframe\">\n",
              "  <thead>\n",
              "    <tr style=\"text-align: right;\">\n",
              "      <th></th>\n",
              "      <th>auction_id</th>\n",
              "      <th>experiment</th>\n",
              "      <th>date</th>\n",
              "      <th>hour</th>\n",
              "      <th>device_make</th>\n",
              "      <th>platform_os</th>\n",
              "      <th>browser</th>\n",
              "      <th>yes</th>\n",
              "      <th>no</th>\n",
              "    </tr>\n",
              "  </thead>\n",
              "  <tbody>\n",
              "    <tr>\n",
              "      <th>0</th>\n",
              "      <td>0008ef63-77a7-448b-bd1e-075f42c55e39</td>\n",
              "      <td>exposed</td>\n",
              "      <td>2020-07-10</td>\n",
              "      <td>8</td>\n",
              "      <td>Generic Smartphone</td>\n",
              "      <td>6</td>\n",
              "      <td>Chrome Mobile</td>\n",
              "      <td>0</td>\n",
              "      <td>0</td>\n",
              "    </tr>\n",
              "    <tr>\n",
              "      <th>1</th>\n",
              "      <td>000eabc5-17ce-4137-8efe-44734d914446</td>\n",
              "      <td>exposed</td>\n",
              "      <td>2020-07-07</td>\n",
              "      <td>10</td>\n",
              "      <td>Generic Smartphone</td>\n",
              "      <td>6</td>\n",
              "      <td>Chrome Mobile</td>\n",
              "      <td>0</td>\n",
              "      <td>0</td>\n",
              "    </tr>\n",
              "    <tr>\n",
              "      <th>2</th>\n",
              "      <td>0016d14a-ae18-4a02-a204-6ba53b52f2ed</td>\n",
              "      <td>exposed</td>\n",
              "      <td>2020-07-05</td>\n",
              "      <td>2</td>\n",
              "      <td>E5823</td>\n",
              "      <td>6</td>\n",
              "      <td>Chrome Mobile WebView</td>\n",
              "      <td>0</td>\n",
              "      <td>1</td>\n",
              "    </tr>\n",
              "    <tr>\n",
              "      <th>3</th>\n",
              "      <td>00187412-2932-4542-a8ef-3633901c98d9</td>\n",
              "      <td>control</td>\n",
              "      <td>2020-07-03</td>\n",
              "      <td>15</td>\n",
              "      <td>Samsung SM-A705FN</td>\n",
              "      <td>6</td>\n",
              "      <td>Facebook</td>\n",
              "      <td>0</td>\n",
              "      <td>0</td>\n",
              "    </tr>\n",
              "    <tr>\n",
              "      <th>4</th>\n",
              "      <td>001a7785-d3fe-4e11-a344-c8735acacc2c</td>\n",
              "      <td>control</td>\n",
              "      <td>2020-07-03</td>\n",
              "      <td>15</td>\n",
              "      <td>Generic Smartphone</td>\n",
              "      <td>6</td>\n",
              "      <td>Chrome Mobile</td>\n",
              "      <td>0</td>\n",
              "      <td>0</td>\n",
              "    </tr>\n",
              "  </tbody>\n",
              "</table>\n",
              "</div>"
            ],
            "text/plain": [
              "                             auction_id experiment  ... yes  no\n",
              "0  0008ef63-77a7-448b-bd1e-075f42c55e39    exposed  ...   0   0\n",
              "1  000eabc5-17ce-4137-8efe-44734d914446    exposed  ...   0   0\n",
              "2  0016d14a-ae18-4a02-a204-6ba53b52f2ed    exposed  ...   0   1\n",
              "3  00187412-2932-4542-a8ef-3633901c98d9    control  ...   0   0\n",
              "4  001a7785-d3fe-4e11-a344-c8735acacc2c    control  ...   0   0\n",
              "\n",
              "[5 rows x 9 columns]"
            ]
          },
          "metadata": {
            "tags": []
          },
          "execution_count": 4
        }
      ]
    },
    {
      "cell_type": "markdown",
      "metadata": {
        "id": "mWegToq1yR4h",
        "colab_type": "text"
      },
      "source": [
        "## 3. A/B Testing"
      ]
    },
    {
      "cell_type": "markdown",
      "metadata": {
        "id": "USCgQQ6Gadoe",
        "colab_type": "text"
      },
      "source": [
        "### 3.1 Metrics Definition\n",
        "\n",
        "\n",
        "\n",
        "\n",
        "\n"
      ]
    },
    {
      "cell_type": "markdown",
      "metadata": {
        "id": "72IMV755yeAq",
        "colab_type": "text"
      },
      "source": [
        "#### Invariate Metrics (Sanity Checks).\n",
        "\n",
        "*   Total Number of users in each group.\n",
        "*   Average Number of online users per day. (N)\n",
        "*   Device Make unique counts in each group.\n",
        "*   Browser type unique counts in each group.\n",
        "*   PLatform OS unique counts in each group.\n",
        "\n",
        "#### Evaluation Metrics\n",
        "\n",
        "\n",
        "*   E/N - (Exposed/ Total Users) (Gross Conversion).\n",
        "*   Users who Remember the SmartAd ad/E (Retention).\n",
        "*   Users who Remember the SmartAd ad/N (Net conversion).\n",
        "\n",
        "**PS**: For the evaluation metrics, the Gross Conversion and the Retention are biased since they don't give room for users in the control group. \n",
        "Nevertheless, I'll explore them but put more emphasis on Net Conversion. \n"
      ]
    },
    {
      "cell_type": "markdown",
      "metadata": {
        "id": "nH72lAhnb-mO",
        "colab_type": "text"
      },
      "source": [
        "#### 3.1.1  Estimating the baseline values of metrics\n",
        "\n",
        "**NB**: The data provided doesn't explicitly explain how the users are targeted. I'm making the assumption that all the users(in the exposed and control groups) are tracked by their cookies: their cookies tell they visited the webpages where the ads are. Some of them saw the smartad ad others saw the dummy ad."
      ]
    },
    {
      "cell_type": "code",
      "metadata": {
        "id": "cYO8J8MHdU5c",
        "colab_type": "code",
        "colab": {
          "base_uri": "https://localhost:8080/",
          "height": 243
        },
        "outputId": "41dc759c-5ee0-4d4d-a443-4b774b3803b4"
      },
      "source": [
        "# Device makes in each group \n",
        "users1 = data.loc[data.experiment == 'exposed']\n",
        "users2 = data.loc[data.experiment == 'control']\n",
        "dev_e = users1.device_make.nunique()\n",
        "dev_c = users2.device_make.nunique()\n",
        "print('number of unique devices in exposed group:', dev_e)\n",
        "print('number of unique devices in control group:', dev_c)\n",
        "\n",
        "\n",
        "# os_platforms in each group \n",
        "users1 = data.loc[data.experiment == 'exposed']\n",
        "users2 = data.loc[data.experiment == 'control']\n",
        "os_e = users1.platform_os.nunique()\n",
        "os_c = users2.platform_os.nunique()\n",
        "print('number of unique os platforms in exposed group:', os_e)\n",
        "print('number of unique os platforms in control group:', os_c)\n",
        "\n",
        "\n",
        "# browser types in each group \n",
        "users1 = data.loc[data.experiment == 'exposed']\n",
        "users2 = data.loc[data.experiment == 'control']\n",
        "b_e = users1.browser.nunique()\n",
        "b_c = users2.browser.nunique()\n",
        "print('number of unique browser in exposed group:', b_e)\n",
        "print('number of unique browser in control group:', b_c)\n",
        "\n",
        "# total number of users in each  group\n",
        "users1 = data.loc[data.experiment == 'exposed']\n",
        "users2 = data.loc[data.experiment == 'control']\n",
        "u_e = users1.auction_id.nunique()\n",
        "u_c = users2.auction_id.nunique()\n",
        "print('total number of users in exposed group:', u_e)\n",
        "print('total number of users in control group:', u_c)\n",
        "\n",
        "# lets get the daily rates\n",
        "# Average total number of users on a daily basis (N)\n",
        "data.date = pd.to_datetime(data[\"date\"])  #convert date to datetime object\n",
        "data['day'] = data.date.dt.day    #extract the days\n",
        "users = data[['auction_id', 'day']]\n",
        "a = users.groupby('day').count()   #aggregate users per day\n",
        "N = a.auction_id.mean()\n",
        "print('Average number of total users per day:', N)  #average users per day\n",
        "\n",
        "\n",
        "# Average number of users shown the smartad per day(E)\n",
        "users = data[['auction_id', 'day', 'experiment']]\n",
        "users = users.loc[users.experiment == 'exposed']\n",
        "b = users.groupby('day').count()   #aggregate users per day\n",
        "E = b.auction_id.mean()\n",
        "print('Average number of users shown the ad per day:', E)  #average per day (we're expecting around half of the total users value)\n",
        "\n",
        "\n",
        "# gross conversion (exposed/total users)\n",
        "print('the gross conversion rate is:', E/N)\n",
        "\n",
        "# Retention (proportion of Users who recall the ad (yes = 1) after being shown)\n",
        "users = data[['auction_id', 'yes', 'experiment', 'day']]\n",
        "users = users.loc[users.experiment == 'exposed']\n",
        "users = users.loc[users.yes == 1]\n",
        "c = users.groupby('day').count() \n",
        "d = c.auction_id.mean()\n",
        "R = d/E\n",
        "print('proportion of Average daily users who recall the ad after being shown the ad (Retention):', R)\n",
        "\n",
        "\n",
        "# Net conversion (proportion of Users who recal the ad to total users generally)\n",
        "print('the net conversion rate:',d/N )"
      ],
      "execution_count": 5,
      "outputs": [
        {
          "output_type": "stream",
          "text": [
            "number of unique devices in exposed group: 218\n",
            "number of unique devices in control group: 169\n",
            "number of unique os platforms in exposed group: 3\n",
            "number of unique os platforms in control group: 2\n",
            "number of unique browser in exposed group: 12\n",
            "number of unique browser in control group: 12\n",
            "total number of users in exposed group: 4006\n",
            "total number of users in control group: 4071\n",
            "Average number of total users per day: 1009.625\n",
            "Average number of users shown the ad per day: 500.75\n",
            "the gross conversion rate is: 0.495976228797821\n",
            "proportion of Average daily users who recall the ad after being shown the ad (Retention): 0.07688467299051423\n",
            "the net conversion rate: 0.03813297016218893\n"
          ],
          "name": "stdout"
        }
      ]
    },
    {
      "cell_type": "code",
      "metadata": {
        "id": "OohqDEKZgmSU",
        "colab_type": "code",
        "colab": {}
      },
      "source": [
        "# storing the values in a dictionary\n",
        "baseline = {\"users\":1010,\"exposed\":501,\"GConversion\":0.49598,\n",
        "           \"Retention\":0.07688,\"NConversion\":0.038133}"
      ],
      "execution_count": 6,
      "outputs": []
    },
    {
      "cell_type": "markdown",
      "metadata": {
        "id": "0JQZFk0moW2_",
        "colab_type": "text"
      },
      "source": [
        "#### 3.1.2 Estimating Standard Deviation \n",
        "Standard deviation is computed per metric for sample size and confidence interval calculations. Assuming 200 daily users: (should be smaller than the population)"
      ]
    },
    {
      "cell_type": "code",
      "metadata": {
        "id": "3vIze12tsVnI",
        "colab_type": "code",
        "colab": {
          "base_uri": "https://localhost:8080/",
          "height": 104
        },
        "outputId": "8e3fa601-1c48-4e6e-af1e-1bbfc6351e78"
      },
      "source": [
        "# scaling baseline counts\n",
        "baseline[\"users\"] = 200\n",
        "baseline[\"exposed\"]=int(baseline[\"exposed\"]*(200/1010))\n",
        "baseline"
      ],
      "execution_count": 7,
      "outputs": [
        {
          "output_type": "execute_result",
          "data": {
            "text/plain": [
              "{'GConversion': 0.49598,\n",
              " 'NConversion': 0.038133,\n",
              " 'Retention': 0.07688,\n",
              " 'exposed': 99,\n",
              " 'users': 200}"
            ]
          },
          "metadata": {
            "tags": []
          },
          "execution_count": 7
        }
      ]
    },
    {
      "cell_type": "markdown",
      "metadata": {
        "id": "18YBcqajuiLn",
        "colab_type": "text"
      },
      "source": [
        "Our data is binomially distributed thus: SD=√((p^∗(1−p^))/n)\n",
        "Assumption: **unit of conversion** = **Unit of analysis**"
      ]
    },
    {
      "cell_type": "code",
      "metadata": {
        "id": "4_zNQN8Fvs6V",
        "colab_type": "code",
        "colab": {
          "base_uri": "https://localhost:8080/",
          "height": 34
        },
        "outputId": "0224ba32-9bc1-413c-bd9a-f9554c5c9a49"
      },
      "source": [
        "# calculating the sd\n",
        "# GCOnversion\n",
        "GC={}\n",
        "GC[\"d_min\"]=0.01\n",
        "GC[\"p\"]=baseline[\"GConversion\"]\n",
        "GC[\"n\"]=baseline[\"users\"]\n",
        "GC[\"sd\"]=round(math.sqrt((GC[\"p\"]*(1-GC[\"p\"]))/GC[\"n\"]),5)\n",
        "GC[\"sd\"]"
      ],
      "execution_count": 8,
      "outputs": [
        {
          "output_type": "execute_result",
          "data": {
            "text/plain": [
              "0.03535"
            ]
          },
          "metadata": {
            "tags": []
          },
          "execution_count": 8
        }
      ]
    },
    {
      "cell_type": "code",
      "metadata": {
        "id": "733Gq4G9w7fF",
        "colab_type": "code",
        "colab": {
          "base_uri": "https://localhost:8080/",
          "height": 34
        },
        "outputId": "b4f39e02-c773-4106-ba75-86a02caced2e"
      },
      "source": [
        "# calculating the sd\n",
        "# Retention\n",
        "R={}\n",
        "R[\"d_min\"]=0.01\n",
        "R[\"p\"]=baseline[\"Retention\"]\n",
        "R[\"n\"]=baseline[\"exposed\"]\n",
        "R[\"sd\"]=round(math.sqrt((R[\"p\"]*(1-R[\"p\"]))/R[\"n\"]),5)\n",
        "R[\"sd\"]"
      ],
      "execution_count": 9,
      "outputs": [
        {
          "output_type": "execute_result",
          "data": {
            "text/plain": [
              "0.02677"
            ]
          },
          "metadata": {
            "tags": []
          },
          "execution_count": 9
        }
      ]
    },
    {
      "cell_type": "code",
      "metadata": {
        "id": "rOwvtHf8xGTl",
        "colab_type": "code",
        "colab": {
          "base_uri": "https://localhost:8080/",
          "height": 34
        },
        "outputId": "cf320f8f-50b7-4773-b79a-f31672727cd3"
      },
      "source": [
        "# calculating the sd\n",
        "# Net COnversion\n",
        "NC={}\n",
        "NC[\"d_min\"]=0.01\n",
        "NC[\"p\"]=baseline[\"NConversion\"]\n",
        "NC[\"n\"]=baseline[\"users\"]\n",
        "NC[\"sd\"]=round(math.sqrt((NC[\"p\"]*(1-NC[\"p\"]))/NC[\"n\"]),5)\n",
        "NC[\"sd\"]"
      ],
      "execution_count": 10,
      "outputs": [
        {
          "output_type": "execute_result",
          "data": {
            "text/plain": [
              "0.01354"
            ]
          },
          "metadata": {
            "tags": []
          },
          "execution_count": 10
        }
      ]
    },
    {
      "cell_type": "markdown",
      "metadata": {
        "id": "vios5eTBxZOW",
        "colab_type": "text"
      },
      "source": [
        "### 3.2 Experiment Sizing\n",
        "Calculating the minimal number of samples we need so that our experiment will have enough statistical power, as well as siginificance.\n",
        "\n",
        "Using: α=0.05 (significance level ) and β=0. 1(power)\n",
        "\n",
        "\n",
        "**PS**: d - Minimum detectable effect.\n",
        "\n",
        "**Hypothesis**:\n",
        "\n",
        "*H0:Pcontrol = Pexposed*\n",
        "\n",
        "*H1:Pcontrol − Pexposeed=d*\n",
        "\n",
        "\n",
        "![image.png](data:image/png;base64,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)"
      ]
    },
    {
      "cell_type": "code",
      "metadata": {
        "id": "x0o0zOvAxbR7",
        "colab_type": "code",
        "colab": {}
      },
      "source": [
        "#z_score, critical value and standard deviation\n",
        "\n",
        "#Inputs: alpha value.\n",
        "#Returns: z-score for given alpha\n",
        "def get_z_score(alpha):\n",
        "    return norm.ppf(alpha)\n",
        "\n",
        "# Inputs: p-baseline conversion rate which is our estimated p and d-minimum\n",
        "# Returns: standard deviations list\n",
        "def get_sds(p,d):\n",
        "    sd1=math.sqrt(2*p*(1-p))\n",
        "    sd2=math.sqrt(p*(1-p)+(p+d)*(1-(p+d)))\n",
        "    sds=[sd1,sd2]\n",
        "    return sds\n",
        "\n",
        "# Inputs:sd1-sd for the baseline,sd2-sd for the expected change,alpha,beta,d-d_min,p-baseline estimate p\n",
        "# Returns: the minimum sample size required per group according to metric denominator\n",
        "def get_sampSize(sds,alpha,beta,d):\n",
        "    n=pow((get_z_score(1-alpha/2)*sds[0]+get_z_score(1-beta)*sds[1]),2)/pow(d,2)\n",
        "    return n"
      ],
      "execution_count": 11,
      "outputs": []
    },
    {
      "cell_type": "code",
      "metadata": {
        "id": "LqsplbUbz5Um",
        "colab_type": "code",
        "colab": {
          "base_uri": "https://localhost:8080/",
          "height": 34
        },
        "outputId": "43b2d681-e97c-4732-ac90-23ac71108c32"
      },
      "source": [
        "#sample size per metric\n",
        "\n",
        "#GConversion\n",
        "# dmin\n",
        "GC[\"d\"]=0.01\n",
        "\n",
        "GC[\"SampSize\"]=round(get_sampSize(get_sds(GC[\"p\"],GC[\"d\"]),0.05,0.1,GC[\"d\"]))\n",
        "GC[\"SampSize\"] * 2   #for the 2 groups "
      ],
      "execution_count": 12,
      "outputs": [
        {
          "output_type": "execute_result",
          "data": {
            "text/plain": [
              "105066.0"
            ]
          },
          "metadata": {
            "tags": []
          },
          "execution_count": 12
        }
      ]
    },
    {
      "cell_type": "markdown",
      "metadata": {
        "id": "Hjbce9lH9Wvq",
        "colab_type": "text"
      },
      "source": [
        "Waay higher than our daily users of 1k. If used, result will be biased\n"
      ]
    },
    {
      "cell_type": "code",
      "metadata": {
        "id": "xZanu7EM3PLu",
        "colab_type": "code",
        "colab": {
          "base_uri": "https://localhost:8080/",
          "height": 34
        },
        "outputId": "8b93a96e-45ae-47a2-8cb3-2e4305626f72"
      },
      "source": [
        "# Retention\n",
        "\n",
        "R[\"d\"]=0.01\n",
        "\n",
        "R[\"SampSize\"]=round(get_sampSize(get_sds(R[\"p\"],R[\"d\"]),0.05,0.1,R[\"d\"]))\n",
        "R[\"SampSize\"] * 0.49598 * 2  # convert to total users then get the number for the 2 groups"
      ],
      "execution_count": 13,
      "outputs": [
        {
          "output_type": "execute_result",
          "data": {
            "text/plain": [
              "15136.31764"
            ]
          },
          "metadata": {
            "tags": []
          },
          "execution_count": 13
        }
      ]
    },
    {
      "cell_type": "code",
      "metadata": {
        "id": "Cj1hBIPf4IlN",
        "colab_type": "code",
        "colab": {
          "base_uri": "https://localhost:8080/",
          "height": 34
        },
        "outputId": "6310b52d-2869-4b9b-b04e-7cacc5b4535e"
      },
      "source": [
        "# Net Conversion\n",
        "NC[\"d\"]=0.01\n",
        "\n",
        "NC[\"SampSize\"]=round(get_sampSize(get_sds(NC[\"p\"],NC[\"d\"]),0.05,0.1,NC[\"d\"]))\n",
        "NC[\"SampSize\"] * 2  #for the 2 groups"
      ],
      "execution_count": 14,
      "outputs": [
        {
          "output_type": "execute_result",
          "data": {
            "text/plain": [
              "16162.0"
            ]
          },
          "metadata": {
            "tags": []
          },
          "execution_count": 14
        }
      ]
    },
    {
      "cell_type": "markdown",
      "metadata": {
        "id": "bNW9HcwV8Jqd",
        "colab_type": "text"
      },
      "source": [
        "Up to 16162 users. This is more than what is needed for retention, so this will be our number. Assuming we take 90% of each days users, the data collection period for this experiment should be about 2 weeks + 3 days. \n",
        "The data we have is for 8 days, so we're less one week to go."
      ]
    },
    {
      "cell_type": "markdown",
      "metadata": {
        "id": "42l2WUykDa7l",
        "colab_type": "text"
      },
      "source": [
        "### 3.3 Collected Data"
      ]
    },
    {
      "cell_type": "code",
      "metadata": {
        "id": "oA74rVYTDciB",
        "colab_type": "code",
        "colab": {
          "base_uri": "https://localhost:8080/",
          "height": 112
        },
        "outputId": "db9704a3-8ef4-40e7-e902-8d02b7de5a70"
      },
      "source": [
        "# print out the first 2 rows\n",
        "data.head(2)"
      ],
      "execution_count": 15,
      "outputs": [
        {
          "output_type": "execute_result",
          "data": {
            "text/html": [
              "<div>\n",
              "<style scoped>\n",
              "    .dataframe tbody tr th:only-of-type {\n",
              "        vertical-align: middle;\n",
              "    }\n",
              "\n",
              "    .dataframe tbody tr th {\n",
              "        vertical-align: top;\n",
              "    }\n",
              "\n",
              "    .dataframe thead th {\n",
              "        text-align: right;\n",
              "    }\n",
              "</style>\n",
              "<table border=\"1\" class=\"dataframe\">\n",
              "  <thead>\n",
              "    <tr style=\"text-align: right;\">\n",
              "      <th></th>\n",
              "      <th>auction_id</th>\n",
              "      <th>experiment</th>\n",
              "      <th>date</th>\n",
              "      <th>hour</th>\n",
              "      <th>device_make</th>\n",
              "      <th>platform_os</th>\n",
              "      <th>browser</th>\n",
              "      <th>yes</th>\n",
              "      <th>no</th>\n",
              "      <th>day</th>\n",
              "    </tr>\n",
              "  </thead>\n",
              "  <tbody>\n",
              "    <tr>\n",
              "      <th>0</th>\n",
              "      <td>0008ef63-77a7-448b-bd1e-075f42c55e39</td>\n",
              "      <td>exposed</td>\n",
              "      <td>2020-07-10</td>\n",
              "      <td>8</td>\n",
              "      <td>Generic Smartphone</td>\n",
              "      <td>6</td>\n",
              "      <td>Chrome Mobile</td>\n",
              "      <td>0</td>\n",
              "      <td>0</td>\n",
              "      <td>10</td>\n",
              "    </tr>\n",
              "    <tr>\n",
              "      <th>1</th>\n",
              "      <td>000eabc5-17ce-4137-8efe-44734d914446</td>\n",
              "      <td>exposed</td>\n",
              "      <td>2020-07-07</td>\n",
              "      <td>10</td>\n",
              "      <td>Generic Smartphone</td>\n",
              "      <td>6</td>\n",
              "      <td>Chrome Mobile</td>\n",
              "      <td>0</td>\n",
              "      <td>0</td>\n",
              "      <td>7</td>\n",
              "    </tr>\n",
              "  </tbody>\n",
              "</table>\n",
              "</div>"
            ],
            "text/plain": [
              "                             auction_id experiment       date  ...  yes no  day\n",
              "0  0008ef63-77a7-448b-bd1e-075f42c55e39    exposed 2020-07-10  ...    0  0   10\n",
              "1  000eabc5-17ce-4137-8efe-44734d914446    exposed 2020-07-07  ...    0  0    7\n",
              "\n",
              "[2 rows x 10 columns]"
            ]
          },
          "metadata": {
            "tags": []
          },
          "execution_count": 15
        }
      ]
    },
    {
      "cell_type": "code",
      "metadata": {
        "id": "v1rpEtxmD4cc",
        "colab_type": "code",
        "colab": {
          "base_uri": "https://localhost:8080/",
          "height": 364
        },
        "outputId": "95f7cacb-0ee3-4325-82d8-7fcbc3eebf6e"
      },
      "source": [
        "# split data into control/exposed groups then agg by day\n",
        "\n",
        "exposed = data.loc[data.experiment == 'exposed']\n",
        "control = data.loc[data.experiment == 'control']\n",
        "\n",
        "df_e = exposed.groupby('day').agg({'auction_id':'count', 'device_make':'count', 'platform_os':'count', 'browser':'count', 'yes':'sum', 'no':'sum'})\n",
        "df_c = control.groupby('day').agg({'auction_id':'count', 'device_make':'count', 'platform_os':'count', 'browser':'count', 'yes':'sum', 'no':'sum'})\n",
        "\n",
        "print(df_e)\n",
        "print(df_c)"
      ],
      "execution_count": 16,
      "outputs": [
        {
          "output_type": "stream",
          "text": [
            "     auction_id  device_make  platform_os  browser  yes  no\n",
            "day                                                        \n",
            "3           470          470          470      470   43  49\n",
            "4           477          477          477      477   46  45\n",
            "5           528          528          528      528   35  39\n",
            "6           294          294          294      294   23  25\n",
            "7           257          257          257      257   22  24\n",
            "8           714          714          714      714   58  61\n",
            "9           728          728          728      728   55  64\n",
            "10          538          538          538      538   26  42\n",
            "     auction_id  device_make  platform_os  browser  yes   no\n",
            "day                                                         \n",
            "3          1545         1545         1545     1545  104  129\n",
            "4           426          426          426      426   30   38\n",
            "5           362          362          362      362   17   26\n",
            "6           196          196          196      196   12   14\n",
            "7           223          223          223      223   16   21\n",
            "8           484          484          484      484   27   31\n",
            "9           480          480          480      480   30   35\n",
            "10          355          355          355      355   28   28\n"
          ],
          "name": "stdout"
        }
      ]
    },
    {
      "cell_type": "markdown",
      "metadata": {
        "id": "obfn2Qj3HCXe",
        "colab_type": "text"
      },
      "source": [
        "#### 3.3.1  Invariant Metrics Check(Sanity)\n",
        "\n",
        "1.   Total Number of users in each group. \n",
        "\n",
        "    Are they balanced? are they different? is the difference statistically significant.\n",
        "\n"
      ]
    },
    {
      "cell_type": "code",
      "metadata": {
        "id": "IDEHDW24FLDz",
        "colab_type": "code",
        "colab": {
          "base_uri": "https://localhost:8080/",
          "height": 52
        },
        "outputId": "7e45ef55-d9cc-4c98-feae-09c68cb52df8"
      },
      "source": [
        "# total number of users in both groups (checking for a significant difference)\n",
        "print('exposed users', df_e.auction_id.sum())\n",
        "print('control users', df_c.auction_id.sum())\n"
      ],
      "execution_count": 17,
      "outputs": [
        {
          "output_type": "stream",
          "text": [
            "exposed users 4006\n",
            "control users 4071\n"
          ],
          "name": "stdout"
        }
      ]
    },
    {
      "cell_type": "code",
      "metadata": {
        "id": "fa80vVr5F4Gu",
        "colab_type": "code",
        "colab": {
          "base_uri": "https://localhost:8080/",
          "height": 34
        },
        "outputId": "8ae15963-128b-417a-feb3-1bd8db981fb4"
      },
      "source": [
        "# the difference is slight\n",
        "# making sure the difference is not significant and is random\n",
        "\n",
        "a = df_c.auction_id.sum()\n",
        "b = df_e.auction_id.sum()\n",
        "c = a + b\n",
        "\n",
        "p=0.5  #taking equal possibilities\n",
        "alpha=0.05   #significance level\n",
        "p_hat=round(a/(c),4)\n",
        "sd=math.sqrt(p*(1-p)/(c))\n",
        "ME=round(get_z_score(1-(alpha/2))*sd,4)\n",
        "print(\"The confidence interval is between\",p-ME,\"and\",p+ME,\"; Is\",p_hat,\"inside this range?\")\n",
        "\n"
      ],
      "execution_count": 18,
      "outputs": [
        {
          "output_type": "stream",
          "text": [
            "The confidence interval is between 0.4891 and 0.5109 ; Is 0.504 inside this range?\n"
          ],
          "name": "stdout"
        }
      ]
    },
    {
      "cell_type": "markdown",
      "metadata": {
        "id": "Vv0shkseGx6J",
        "colab_type": "text"
      },
      "source": [
        "Our observed p^ is inside this range which means the difference in number of samples between groups is expected."
      ]
    },
    {
      "cell_type": "markdown",
      "metadata": {
        "id": "j8J1XWEvHioe",
        "colab_type": "text"
      },
      "source": [
        "2. Average Number of users per group per day.\n",
        "\n",
        "    Are they balance? are they different? is the difference statistically significant.\n"
      ]
    },
    {
      "cell_type": "code",
      "metadata": {
        "id": "5t_xbd5kHi0D",
        "colab_type": "code",
        "colab": {
          "base_uri": "https://localhost:8080/",
          "height": 69
        },
        "outputId": "c0ace00b-f482-4716-c2a1-327b8ddc7559"
      },
      "source": [
        "# Average total number of users on a daily basis (N)\n",
        "print('Average number of total users per day (both groups):', N)  #average per day\n",
        "e = df_e.auction_id.mean()\n",
        "c = df_c.auction_id.mean()\n",
        "print('Average number of total users per day in the exposed roup:', e)\n",
        "print('Average number of total users per day in the control group:', c)"
      ],
      "execution_count": 19,
      "outputs": [
        {
          "output_type": "stream",
          "text": [
            "Average number of total users per day (both groups): 1009.625\n",
            "Average number of total users per day in the exposed roup: 500.75\n",
            "Average number of total users per day in the control group: 508.875\n"
          ],
          "name": "stdout"
        }
      ]
    },
    {
      "cell_type": "code",
      "metadata": {
        "id": "q4taGGnlHi9m",
        "colab_type": "code",
        "colab": {
          "base_uri": "https://localhost:8080/",
          "height": 34
        },
        "outputId": "c93c7f76-c0e5-43c0-d52c-6eaa1335d2a5"
      },
      "source": [
        "# making sure the difference is not significant and is random\n",
        "\n",
        "a = e\n",
        "b = c\n",
        "d = a + b\n",
        "\n",
        "p=0.5  #taking equal possibilities\n",
        "alpha=0.05   #significance level\n",
        "p_hat=round(a/(d),4)\n",
        "sd=math.sqrt(p*(1-p)/(d))\n",
        "ME=round(get_z_score(1-(alpha/2))*sd,4)\n",
        "print(\"The confidence interval is between\",p-ME,\"and\",p+ME,\"; Is\",p_hat,\"inside this range?\")"
      ],
      "execution_count": 20,
      "outputs": [
        {
          "output_type": "stream",
          "text": [
            "The confidence interval is between 0.4692 and 0.5308 ; Is 0.496 inside this range?\n"
          ],
          "name": "stdout"
        }
      ]
    },
    {
      "cell_type": "markdown",
      "metadata": {
        "id": "c4T1ZXqDJNmh",
        "colab_type": "text"
      },
      "source": [
        "very well!\n",
        "\n",
        "No difference."
      ]
    },
    {
      "cell_type": "markdown",
      "metadata": {
        "id": "e7SMffh6l-L5",
        "colab_type": "text"
      },
      "source": [
        "\n",
        "3.   Device Type\n",
        "  \n",
        "    Are the unique device counts different in the groups? Is the difference significant?\n"
      ]
    },
    {
      "cell_type": "code",
      "metadata": {
        "id": "E0Y4uhjOl9eJ",
        "colab_type": "code",
        "colab": {
          "base_uri": "https://localhost:8080/",
          "height": 52
        },
        "outputId": "fd9375ea-ff41-4a1b-c53a-814594f2e0e7"
      },
      "source": [
        "print(dev_c)\n",
        "print(dev_e)"
      ],
      "execution_count": 21,
      "outputs": [
        {
          "output_type": "stream",
          "text": [
            "169\n",
            "218\n"
          ],
          "name": "stdout"
        }
      ]
    },
    {
      "cell_type": "code",
      "metadata": {
        "id": "dbyplnt1mKn4",
        "colab_type": "code",
        "colab": {
          "base_uri": "https://localhost:8080/",
          "height": 34
        },
        "outputId": "5bf24160-fa64-42d5-b810-6a3cd06a192c"
      },
      "source": [
        "# making sure the difference is not significant and is random\n",
        "\n",
        "a = dev_c\n",
        "b = dev_e\n",
        "c = a + b\n",
        "\n",
        "p=0.5  #taking equal possibilities\n",
        "alpha=0.05   #significance level\n",
        "p_hat=round(a/(c),4)\n",
        "sd=math.sqrt(p*(1-p)/(c))\n",
        "ME=round(get_z_score(1-(alpha/2))*sd,4)\n",
        "print(\"The confidence interval is between\",p-ME,\"and\",p+ME,\"; Is\",p_hat,\"inside this range?\")\n",
        "\n"
      ],
      "execution_count": 22,
      "outputs": [
        {
          "output_type": "stream",
          "text": [
            "The confidence interval is between 0.4502 and 0.5498 ; Is 0.4367 inside this range?\n"
          ],
          "name": "stdout"
        }
      ]
    },
    {
      "cell_type": "markdown",
      "metadata": {
        "id": "NrTSxr4WmXX8",
        "colab_type": "text"
      },
      "source": [
        "Sadly the difference is significant"
      ]
    },
    {
      "cell_type": "markdown",
      "metadata": {
        "id": "DLhnN7f6mbJp",
        "colab_type": "text"
      },
      "source": [
        "4.   Platform OS\n",
        "\n",
        "    Are the unique os_type counts different in the groups? Is the difference significant?\n",
        "\n"
      ]
    },
    {
      "cell_type": "code",
      "metadata": {
        "id": "NG8w5eU5mblJ",
        "colab_type": "code",
        "colab": {
          "base_uri": "https://localhost:8080/",
          "height": 52
        },
        "outputId": "f4fece88-0239-4c98-d262-3c9dc99c1646"
      },
      "source": [
        "print(os_c)\n",
        "print(os_e)"
      ],
      "execution_count": 23,
      "outputs": [
        {
          "output_type": "stream",
          "text": [
            "2\n",
            "3\n"
          ],
          "name": "stdout"
        }
      ]
    },
    {
      "cell_type": "code",
      "metadata": {
        "id": "WQieOp-Dmbtc",
        "colab_type": "code",
        "colab": {
          "base_uri": "https://localhost:8080/",
          "height": 34
        },
        "outputId": "01abeb95-a629-4183-ca24-49ea4947a3e4"
      },
      "source": [
        "# making sure the difference is not significant and is random\n",
        "\n",
        "a = os_c\n",
        "b = os_e\n",
        "c = a + b\n",
        "\n",
        "p=0.5  #taking equal possibilities\n",
        "alpha=0.05   #significance level\n",
        "p_hat=round(a/(c),4)\n",
        "sd=math.sqrt(p*(1-p)/(c))\n",
        "ME=round(get_z_score(1-(alpha/2))*sd,4)\n",
        "print(\"The confidence interval is between\",p-ME,\"and\",p+ME,\"; Is\",p_hat,\"inside this range?\")\n",
        "\n"
      ],
      "execution_count": 24,
      "outputs": [
        {
          "output_type": "stream",
          "text": [
            "The confidence interval is between 0.06169999999999998 and 0.9383 ; Is 0.4 inside this range?\n"
          ],
          "name": "stdout"
        }
      ]
    },
    {
      "cell_type": "markdown",
      "metadata": {
        "id": "97Fhg3hcmr2J",
        "colab_type": "text"
      },
      "source": [
        "Difference not significant, good to go."
      ]
    },
    {
      "cell_type": "markdown",
      "metadata": {
        "id": "AIczvPDsmy1M",
        "colab_type": "text"
      },
      "source": [
        "5.   Browser\n",
        "\n",
        "    Are the unique brpwsers counts different in the groups? Is the difference significant?\n"
      ]
    },
    {
      "cell_type": "code",
      "metadata": {
        "id": "J8cL4R9EmzAY",
        "colab_type": "code",
        "colab": {
          "base_uri": "https://localhost:8080/",
          "height": 52
        },
        "outputId": "c09a5f4c-9208-4991-b29e-651d5b858cf9"
      },
      "source": [
        "print(b_c)\n",
        "print(b_e)"
      ],
      "execution_count": 25,
      "outputs": [
        {
          "output_type": "stream",
          "text": [
            "12\n",
            "12\n"
          ],
          "name": "stdout"
        }
      ]
    },
    {
      "cell_type": "code",
      "metadata": {
        "id": "xjJM2-sdmzIH",
        "colab_type": "code",
        "colab": {
          "base_uri": "https://localhost:8080/",
          "height": 34
        },
        "outputId": "420553d8-ec94-4143-f401-39fb7b9f54da"
      },
      "source": [
        "# making sure the difference is not significant and is random\n",
        "\n",
        "a = b_c\n",
        "b = b_e\n",
        "c = a + b\n",
        "\n",
        "p=0.5  #taking equal possibilities\n",
        "alpha=0.05   #significance level\n",
        "p_hat=round(a/(c),4)\n",
        "sd=math.sqrt(p*(1-p)/(c))\n",
        "ME=round(get_z_score(1-(alpha/2))*sd,4)\n",
        "print(\"The confidence interval is between\",p-ME,\"and\",p+ME,\"; Is\",p_hat,\"inside this range?\")\n",
        "\n"
      ],
      "execution_count": 26,
      "outputs": [
        {
          "output_type": "stream",
          "text": [
            "The confidence interval is between 0.3 and 0.7 ; Is 0.5 inside this range?\n"
          ],
          "name": "stdout"
        }
      ]
    },
    {
      "cell_type": "markdown",
      "metadata": {
        "id": "sf7IyXOHmzVR",
        "colab_type": "text"
      },
      "source": [
        "Not statistically significant."
      ]
    },
    {
      "cell_type": "markdown",
      "metadata": {
        "id": "sIZXGh0HG5AA",
        "colab_type": "text"
      },
      "source": [
        "### 3.4  Examining effect size\n",
        "looking at the changes between the control and experiment groups with regard to our evaluation metrics to make sure the difference is there, that it is statistically significant and most importantly practically significant\n",
        "\n",
        "the evaluation metrics:\n",
        "\n",
        "\n",
        "*   NetConversion (remember ad/total users)\n",
        "\n",
        "    Gross conversion is foregone due to the huge sample size required.\n",
        "\n",
        "    Retention is foregone too due to the bias (mentioned earlier) it has towards the exposed roup.\n",
        "\n"
      ]
    },
    {
      "cell_type": "code",
      "metadata": {
        "id": "siYRtx7wIrTm",
        "colab_type": "code",
        "colab": {
          "base_uri": "https://localhost:8080/",
          "height": 89
        },
        "outputId": "b9df6082-cc67-4f41-df1d-e0f882c8fce8"
      },
      "source": [
        "#Net Conversion - number of users who recall the ad divided by total users\n",
        "recall_c=df_c[\"yes\"].sum()\n",
        "recall_e=df_e[\"yes\"].sum()\n",
        "\n",
        "a = df_c.auction_id.sum()\n",
        "b = df_e.auction_id.sum()\n",
        "c = a + b\n",
        "\n",
        "NC_cont=recall_c/a\n",
        "NC_exp=recall_e/b\n",
        "NC_pooled=(recall_c+recall_e)/(a+b)\n",
        "NC_sd_pooled=math.sqrt(NC_pooled*(1-NC_pooled)*(1/a+1/b))\n",
        "NC_ME=round(get_z_score(1-alpha/2)*NC_sd_pooled,4)\n",
        "NC_diff=round(NC_exp-NC_cont,4)\n",
        "print(\"The change due to the experiment is\",NC_diff*100,\"%\")\n",
        "print(\"Confidence Interval: [\",NC_diff-NC_ME,\",\",NC_diff+NC_ME,\"]\")\n",
        "print (\"The change is statistically significant if the CI doesn't include 0. In that case, it is practically significant if\",-NC[\"d_min\"],\"is not in the CI as well.\")"
      ],
      "execution_count": 27,
      "outputs": [
        {
          "output_type": "stream",
          "text": [
            "The change due to the experiment is 1.2 %\n",
            "Confidence Interval: [ 0.0008000000000000004 , 0.0232 ]\n",
            "The change is statistically significant if the CI doesn't include 0. In that case, it is practically significant if -0.01 is not in the CI as well.\n"
          ],
          "name": "stdout"
        }
      ]
    },
    {
      "cell_type": "markdown",
      "metadata": {
        "id": "mRxRzDcvJqWG",
        "colab_type": "text"
      },
      "source": [
        "very well! "
      ]
    },
    {
      "cell_type": "markdown",
      "metadata": {
        "id": "e16a4ye5oEc7",
        "colab_type": "text"
      },
      "source": [
        "According to this result there was a change due to the experiment, (we reject the null hypothesis) that change was both statistically and practically significant. We have a positive change of 1.2% (we were willing to accept any change greater than 1% (d min)). This means the Net COnversion(Users who recall the Ad/ total users) of the exposed group (the one exposed to the SmartAd Ad) has increased by 1% and this change is significant."
      ]
    },
    {
      "cell_type": "code",
      "metadata": {
        "id": "eTlAWiHVFgRZ",
        "colab_type": "code",
        "colab": {}
      },
      "source": [
        "# generate the requirements file\n",
        "!pip freeze > requirements.txt"
      ],
      "execution_count": 28,
      "outputs": []
    }
  ]
}