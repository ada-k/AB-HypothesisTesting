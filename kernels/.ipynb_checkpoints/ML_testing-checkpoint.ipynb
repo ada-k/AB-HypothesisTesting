{
  "nbformat": 4,
  "nbformat_minor": 0,
  "metadata": {
    "colab": {
      "name": "ML_a_b_testing_latest.ipynb",
      "provenance": [],
      "collapsed_sections": [],
      "toc_visible": true
    },
    "kernelspec": {
      "name": "python3",
      "display_name": "Python 3"
    }
  },
  "cells": [
    {
      "cell_type": "markdown",
      "metadata": {
        "id": "DjGyEGkLLFxP",
        "colab_type": "text"
      },
      "source": [
        "## A/B Testing with Machine Learning\n",
        "Machine Learning enables modelling of complex systems unlike the statistical inference approach.\n",
        "\n",
        "Feature significance is what tells whether the experiment had some impact and also the contribution of other features. \n",
        "\n",
        "## Data\n",
        "The BIO data for this project is a “Yes” and “No” response of online users to the following question:\n",
        "\n",
        "\n",
        "`Q: Do you know the brand SmartAd?`\n",
        "\n",
        "      Yes\n",
        "      No\n",
        "\n",
        "The data has the following columns:\n",
        "  * **auction_id**: the unique id of the online user who has been presented the BIO. \n",
        "  * **experiment**: which group the user belongs to - control or exposed.\n",
        "  * **date**: the date in YYYY-MM-DD format\n",
        "  * **hour**: the hour of the day in HH format.\n",
        "  * **device_make**: the name of the type of device the user has e.g. Samsung\n",
        "  * **platform_os**: the id of the OS the user has. \n",
        "  * **browser**: the name of the browser the user uses to see the BIO questionnaire.\n",
        "  * **yes**: 1 if the user chooses the “Yes” radio button for the BIO questionnaire.\n",
        "  * **no**: 1 if the user chooses the “No” radio button for the BIO questionnaire."
      ]
    },
    {
      "cell_type": "markdown",
      "metadata": {
        "id": "S-JukiURUhH3",
        "colab_type": "text"
      },
      "source": [
        "## 1.  Libraries"
      ]
    },
    {
      "cell_type": "code",
      "metadata": {
        "id": "JtuOVcwpUs-4",
        "colab_type": "code",
        "colab": {
          "base_uri": "https://localhost:8080/",
          "height": 72
        },
        "outputId": "d0f64d3f-e893-426e-c20a-64858a6f0480"
      },
      "source": [
        "# data processing and Linear Algebra\n",
        "import pandas as pd\n",
        "import numpy as np\n",
        "\n",
        "# plotting \n",
        "import seaborn as sns\n",
        "import matplotlib.pyplot as plt\n",
        "\n",
        "# google authentication\n",
        "from pydrive.auth import GoogleAuth\n",
        "from pydrive.drive import GoogleDrive\n",
        "from google.colab import auth\n",
        "from oauth2client.client import GoogleCredentials\n",
        "\n",
        "# maths and statistics\n",
        "from scipy import stats\n",
        "from scipy.stats import skew, norm\n",
        "import math\n",
        "\n",
        "# ML models \n",
        "from sklearn.linear_model import LogisticRegression\n",
        "from xgboost import XGBClassifier\n",
        "from sklearn.ensemble import RandomForestClassifier\n",
        "from sklearn.tree import DecisionTreeClassifier\n",
        "\n",
        "# House keeping (data preparation and model evaluation)\n",
        "from sklearn.preprocessing import OneHotEncoder, LabelEncoder\n",
        "from sklearn.model_selection import KFold, cross_val_score, train_test_split\n",
        "from sklearn.metrics import confusion_matrix, log_loss\n",
        "\n",
        "\n",
        "# others\n",
        "import datetime as dt\n",
        "\n",
        "# ignore warnings\n",
        "import warnings\n",
        "warnings.filterwarnings(action=\"ignore\")"
      ],
      "execution_count": 1,
      "outputs": [
        {
          "output_type": "stream",
          "text": [
            "/usr/local/lib/python3.6/dist-packages/statsmodels/tools/_testing.py:19: FutureWarning: pandas.util.testing is deprecated. Use the functions in the public API at pandas.testing instead.\n",
            "  import pandas.util.testing as tm\n"
          ],
          "name": "stderr"
        }
      ]
    },
    {
      "cell_type": "markdown",
      "metadata": {
        "id": "P2_hjoYzU2Ux",
        "colab_type": "text"
      },
      "source": [
        "## 2. Dataset"
      ]
    },
    {
      "cell_type": "code",
      "metadata": {
        "id": "wyvl5eFZU4D2",
        "colab_type": "code",
        "colab": {}
      },
      "source": [
        "# function to fetch data\n",
        "def fetch_data(id, file_name):\n",
        "  auth.authenticate_user()\n",
        "  gauth = GoogleAuth()\n",
        "  gauth.credentials = GoogleCredentials.get_application_default()\n",
        "  drive = GoogleDrive(gauth)\n",
        "\n",
        "  downloaded = drive.CreateFile({'id':id}) \n",
        "  downloaded.GetContentFile(file_name)\n",
        "\n",
        "  data=pd.read_csv(file_name)\n",
        "  return data"
      ],
      "execution_count": 2,
      "outputs": []
    },
    {
      "cell_type": "code",
      "metadata": {
        "id": "7ocWaLEmM7Mo",
        "colab_type": "code",
        "colab": {
          "base_uri": "https://localhost:8080/",
          "height": 206
        },
        "outputId": "2f94a00f-14ac-4f06-eb8a-8bba30b99e35"
      },
      "source": [
        "# fetch the data\n",
        "data = fetch_data('1YSn01vvlHKQaAIBtwIXRNd-oTaTuDN09', 'ABAdRecall.csv')\n",
        "data.head()"
      ],
      "execution_count": 3,
      "outputs": [
        {
          "output_type": "execute_result",
          "data": {
            "text/html": [
              "<div>\n",
              "<style scoped>\n",
              "    .dataframe tbody tr th:only-of-type {\n",
              "        vertical-align: middle;\n",
              "    }\n",
              "\n",
              "    .dataframe tbody tr th {\n",
              "        vertical-align: top;\n",
              "    }\n",
              "\n",
              "    .dataframe thead th {\n",
              "        text-align: right;\n",
              "    }\n",
              "</style>\n",
              "<table border=\"1\" class=\"dataframe\">\n",
              "  <thead>\n",
              "    <tr style=\"text-align: right;\">\n",
              "      <th></th>\n",
              "      <th>auction_id</th>\n",
              "      <th>experiment</th>\n",
              "      <th>date</th>\n",
              "      <th>hour</th>\n",
              "      <th>device_make</th>\n",
              "      <th>platform_os</th>\n",
              "      <th>browser</th>\n",
              "      <th>yes</th>\n",
              "      <th>no</th>\n",
              "    </tr>\n",
              "  </thead>\n",
              "  <tbody>\n",
              "    <tr>\n",
              "      <th>0</th>\n",
              "      <td>0008ef63-77a7-448b-bd1e-075f42c55e39</td>\n",
              "      <td>exposed</td>\n",
              "      <td>2020-07-10</td>\n",
              "      <td>8</td>\n",
              "      <td>Generic Smartphone</td>\n",
              "      <td>6</td>\n",
              "      <td>Chrome Mobile</td>\n",
              "      <td>0</td>\n",
              "      <td>0</td>\n",
              "    </tr>\n",
              "    <tr>\n",
              "      <th>1</th>\n",
              "      <td>000eabc5-17ce-4137-8efe-44734d914446</td>\n",
              "      <td>exposed</td>\n",
              "      <td>2020-07-07</td>\n",
              "      <td>10</td>\n",
              "      <td>Generic Smartphone</td>\n",
              "      <td>6</td>\n",
              "      <td>Chrome Mobile</td>\n",
              "      <td>0</td>\n",
              "      <td>0</td>\n",
              "    </tr>\n",
              "    <tr>\n",
              "      <th>2</th>\n",
              "      <td>0016d14a-ae18-4a02-a204-6ba53b52f2ed</td>\n",
              "      <td>exposed</td>\n",
              "      <td>2020-07-05</td>\n",
              "      <td>2</td>\n",
              "      <td>E5823</td>\n",
              "      <td>6</td>\n",
              "      <td>Chrome Mobile WebView</td>\n",
              "      <td>0</td>\n",
              "      <td>1</td>\n",
              "    </tr>\n",
              "    <tr>\n",
              "      <th>3</th>\n",
              "      <td>00187412-2932-4542-a8ef-3633901c98d9</td>\n",
              "      <td>control</td>\n",
              "      <td>2020-07-03</td>\n",
              "      <td>15</td>\n",
              "      <td>Samsung SM-A705FN</td>\n",
              "      <td>6</td>\n",
              "      <td>Facebook</td>\n",
              "      <td>0</td>\n",
              "      <td>0</td>\n",
              "    </tr>\n",
              "    <tr>\n",
              "      <th>4</th>\n",
              "      <td>001a7785-d3fe-4e11-a344-c8735acacc2c</td>\n",
              "      <td>control</td>\n",
              "      <td>2020-07-03</td>\n",
              "      <td>15</td>\n",
              "      <td>Generic Smartphone</td>\n",
              "      <td>6</td>\n",
              "      <td>Chrome Mobile</td>\n",
              "      <td>0</td>\n",
              "      <td>0</td>\n",
              "    </tr>\n",
              "  </tbody>\n",
              "</table>\n",
              "</div>"
            ],
            "text/plain": [
              "                             auction_id experiment  ... yes  no\n",
              "0  0008ef63-77a7-448b-bd1e-075f42c55e39    exposed  ...   0   0\n",
              "1  000eabc5-17ce-4137-8efe-44734d914446    exposed  ...   0   0\n",
              "2  0016d14a-ae18-4a02-a204-6ba53b52f2ed    exposed  ...   0   1\n",
              "3  00187412-2932-4542-a8ef-3633901c98d9    control  ...   0   0\n",
              "4  001a7785-d3fe-4e11-a344-c8735acacc2c    control  ...   0   0\n",
              "\n",
              "[5 rows x 9 columns]"
            ]
          },
          "metadata": {
            "tags": []
          },
          "execution_count": 3
        }
      ]
    },
    {
      "cell_type": "markdown",
      "metadata": {
        "id": "ga0Wlq9Pzg4I",
        "colab_type": "text"
      },
      "source": [
        "## 3. Preprocessing"
      ]
    },
    {
      "cell_type": "markdown",
      "metadata": {
        "id": "ZsFXmXUN0L7C",
        "colab_type": "text"
      },
      "source": [
        "### 3.1 Null values"
      ]
    },
    {
      "cell_type": "code",
      "metadata": {
        "id": "2QCFseRdzj7b",
        "colab_type": "code",
        "colab": {
          "base_uri": "https://localhost:8080/",
          "height": 191
        },
        "outputId": "ee60fc12-0168-4d5b-bb42-885889e71a2f"
      },
      "source": [
        "# Null Values\n",
        "data.isna().any()"
      ],
      "execution_count": 4,
      "outputs": [
        {
          "output_type": "execute_result",
          "data": {
            "text/plain": [
              "auction_id     False\n",
              "experiment     False\n",
              "date           False\n",
              "hour           False\n",
              "device_make    False\n",
              "platform_os    False\n",
              "browser        False\n",
              "yes            False\n",
              "no             False\n",
              "dtype: bool"
            ]
          },
          "metadata": {
            "tags": []
          },
          "execution_count": 4
        }
      ]
    },
    {
      "cell_type": "markdown",
      "metadata": {
        "id": "bzk5gT-dzqnh",
        "colab_type": "text"
      },
      "source": [
        "No null values, good to go."
      ]
    },
    {
      "cell_type": "markdown",
      "metadata": {
        "id": "8pciVkJB0wqH",
        "colab_type": "text"
      },
      "source": [
        "### 3.2 Numerical + Categorical Features"
      ]
    },
    {
      "cell_type": "code",
      "metadata": {
        "id": "29lF_LdL01QW",
        "colab_type": "code",
        "colab": {
          "base_uri": "https://localhost:8080/",
          "height": 206
        },
        "outputId": "d03bd7f5-03b1-4c95-f52c-b7a3467b979e"
      },
      "source": [
        "categorical = []\n",
        "numerical = []\n",
        "for col in data.columns:\n",
        "  if data[col].dtype == object:\n",
        "    categorical.append(col)\n",
        "  elif data[col].dtype in ['int16', 'int32', 'int64', 'float16', 'float32', 'float64']:\n",
        "    numerical.append(col)\n",
        "\n",
        "\n",
        "features = categorical + numerical \n",
        "df = data[features]\n",
        "df.head()"
      ],
      "execution_count": 5,
      "outputs": [
        {
          "output_type": "execute_result",
          "data": {
            "text/html": [
              "<div>\n",
              "<style scoped>\n",
              "    .dataframe tbody tr th:only-of-type {\n",
              "        vertical-align: middle;\n",
              "    }\n",
              "\n",
              "    .dataframe tbody tr th {\n",
              "        vertical-align: top;\n",
              "    }\n",
              "\n",
              "    .dataframe thead th {\n",
              "        text-align: right;\n",
              "    }\n",
              "</style>\n",
              "<table border=\"1\" class=\"dataframe\">\n",
              "  <thead>\n",
              "    <tr style=\"text-align: right;\">\n",
              "      <th></th>\n",
              "      <th>auction_id</th>\n",
              "      <th>experiment</th>\n",
              "      <th>date</th>\n",
              "      <th>device_make</th>\n",
              "      <th>browser</th>\n",
              "      <th>hour</th>\n",
              "      <th>platform_os</th>\n",
              "      <th>yes</th>\n",
              "      <th>no</th>\n",
              "    </tr>\n",
              "  </thead>\n",
              "  <tbody>\n",
              "    <tr>\n",
              "      <th>0</th>\n",
              "      <td>0008ef63-77a7-448b-bd1e-075f42c55e39</td>\n",
              "      <td>exposed</td>\n",
              "      <td>2020-07-10</td>\n",
              "      <td>Generic Smartphone</td>\n",
              "      <td>Chrome Mobile</td>\n",
              "      <td>8</td>\n",
              "      <td>6</td>\n",
              "      <td>0</td>\n",
              "      <td>0</td>\n",
              "    </tr>\n",
              "    <tr>\n",
              "      <th>1</th>\n",
              "      <td>000eabc5-17ce-4137-8efe-44734d914446</td>\n",
              "      <td>exposed</td>\n",
              "      <td>2020-07-07</td>\n",
              "      <td>Generic Smartphone</td>\n",
              "      <td>Chrome Mobile</td>\n",
              "      <td>10</td>\n",
              "      <td>6</td>\n",
              "      <td>0</td>\n",
              "      <td>0</td>\n",
              "    </tr>\n",
              "    <tr>\n",
              "      <th>2</th>\n",
              "      <td>0016d14a-ae18-4a02-a204-6ba53b52f2ed</td>\n",
              "      <td>exposed</td>\n",
              "      <td>2020-07-05</td>\n",
              "      <td>E5823</td>\n",
              "      <td>Chrome Mobile WebView</td>\n",
              "      <td>2</td>\n",
              "      <td>6</td>\n",
              "      <td>0</td>\n",
              "      <td>1</td>\n",
              "    </tr>\n",
              "    <tr>\n",
              "      <th>3</th>\n",
              "      <td>00187412-2932-4542-a8ef-3633901c98d9</td>\n",
              "      <td>control</td>\n",
              "      <td>2020-07-03</td>\n",
              "      <td>Samsung SM-A705FN</td>\n",
              "      <td>Facebook</td>\n",
              "      <td>15</td>\n",
              "      <td>6</td>\n",
              "      <td>0</td>\n",
              "      <td>0</td>\n",
              "    </tr>\n",
              "    <tr>\n",
              "      <th>4</th>\n",
              "      <td>001a7785-d3fe-4e11-a344-c8735acacc2c</td>\n",
              "      <td>control</td>\n",
              "      <td>2020-07-03</td>\n",
              "      <td>Generic Smartphone</td>\n",
              "      <td>Chrome Mobile</td>\n",
              "      <td>15</td>\n",
              "      <td>6</td>\n",
              "      <td>0</td>\n",
              "      <td>0</td>\n",
              "    </tr>\n",
              "  </tbody>\n",
              "</table>\n",
              "</div>"
            ],
            "text/plain": [
              "                             auction_id experiment  ... yes no\n",
              "0  0008ef63-77a7-448b-bd1e-075f42c55e39    exposed  ...   0  0\n",
              "1  000eabc5-17ce-4137-8efe-44734d914446    exposed  ...   0  0\n",
              "2  0016d14a-ae18-4a02-a204-6ba53b52f2ed    exposed  ...   0  1\n",
              "3  00187412-2932-4542-a8ef-3633901c98d9    control  ...   0  0\n",
              "4  001a7785-d3fe-4e11-a344-c8735acacc2c    control  ...   0  0\n",
              "\n",
              "[5 rows x 9 columns]"
            ]
          },
          "metadata": {
            "tags": []
          },
          "execution_count": 5
        }
      ]
    },
    {
      "cell_type": "markdown",
      "metadata": {
        "id": "Kgf-LQiv6VIL",
        "colab_type": "text"
      },
      "source": [
        "### 3.3 Outlier detection"
      ]
    },
    {
      "cell_type": "code",
      "metadata": {
        "id": "U_N7VfA26UR5",
        "colab_type": "code",
        "colab": {
          "base_uri": "https://localhost:8080/",
          "height": 86
        },
        "outputId": "ed7503c0-6b61-4fd9-8329-26a869511949"
      },
      "source": [
        "# check if they exist\n",
        "def iqr_outlier_test(data, col):\n",
        "  Q1 = np.percentile(data[col], 25, interpolation = 'midpoint')  \n",
        "  Q2 = np.percentile(data[col], 50, interpolation = 'midpoint')  \n",
        "  Q3 = np.percentile(data[col], 75, interpolation = 'midpoint')  \n",
        "  IQR = stats.iqr(data[col], interpolation = 'midpoint') \n",
        "  o = (data[col] < (Q1 - 1.5 * IQR)) |(data[col] > (Q3 + 1.5 * IQR))\n",
        "  m = o.unique()\n",
        "  return m\n",
        "\n",
        "for col in df[numerical].columns:\n",
        "  print(col, '-', iqr_outlier_test(df, col))"
      ],
      "execution_count": 6,
      "outputs": [
        {
          "output_type": "stream",
          "text": [
            "hour - [False]\n",
            "platform_os - [False  True]\n",
            "yes - [False  True]\n",
            "no - [False  True]\n"
          ],
          "name": "stdout"
        }
      ]
    },
    {
      "cell_type": "markdown",
      "metadata": {
        "id": "B1I_9V3g6bdM",
        "colab_type": "text"
      },
      "source": [
        "3 numerical features have outliers.They cannot be treated since the features are representative of cateorical features.\n",
        "\n",
        "The code below would treat them using the 90th and 10th percentiles."
      ]
    },
    {
      "cell_type": "code",
      "metadata": {
        "id": "oM1aDLcF7FaW",
        "colab_type": "code",
        "colab": {}
      },
      "source": [
        "# #treat them\n",
        "# def treat_outliers(data, col):\n",
        "#   data[col] = data[col].clip(lower=data[col].quantile(0.10), upper= data[col].quantile(0.90))\n",
        "\n",
        "# for col in df[numerical].columns:\n",
        "#   treat_outliers(df, col)\n",
        "\n",
        "# #check again\n",
        "# for col in df[numerical].columns:\n",
        "#   print(col, '-', iqr_outlier_test(df, col))"
      ],
      "execution_count": 7,
      "outputs": []
    },
    {
      "cell_type": "markdown",
      "metadata": {
        "id": "wPYhu4fX71GT",
        "colab_type": "text"
      },
      "source": [
        "### 3.4 Skewness + Normalization\n",
        "\n",
        "Linear models love normally distributed data, skewness is usually checked to ensure normality of the data.\n",
        "\n",
        "But: \n",
        "We do not expect skewed features since most of them are categorical. The few numerical ones are either representative of categorical data( platform OS, yes, no) or are timestamps (hour).\n",
        "\n",
        "\n",
        "Nevertheless..."
      ]
    },
    {
      "cell_type": "code",
      "metadata": {
        "id": "KIhsad32OYGB",
        "colab_type": "code",
        "colab": {
          "base_uri": "https://localhost:8080/",
          "height": 121
        },
        "outputId": "788d8382-b842-4bcb-a08c-6de99e1d0840"
      },
      "source": [
        "# Find skewed numerical features\n",
        "skew_features = df[numerical].apply(lambda x: skew(x)).sort_values(ascending=False)\n",
        "\n",
        "high_skew = skew_features[skew_features > 0.5]\n",
        "skew_index = high_skew.index\n",
        "\n",
        "print(\"There are {} numerical features with Skew > 0.5 :\".format(high_skew.shape[0]))\n",
        "skewness = pd.DataFrame({'Skew' :high_skew})\n",
        "skew_features"
      ],
      "execution_count": 8,
      "outputs": [
        {
          "output_type": "stream",
          "text": [
            "There are 2 numerical features with Skew > 0.5 :\n"
          ],
          "name": "stdout"
        },
        {
          "output_type": "execute_result",
          "data": {
            "text/plain": [
              "yes            3.346169\n",
              "no             3.021235\n",
              "hour          -0.291462\n",
              "platform_os   -3.963495\n",
              "dtype: float64"
            ]
          },
          "metadata": {
            "tags": []
          },
          "execution_count": 8
        }
      ]
    },
    {
      "cell_type": "markdown",
      "metadata": {
        "id": "Nr0pya_vOh83",
        "colab_type": "text"
      },
      "source": [
        "The skewness are extremes (super high or super low), except for the hour variable."
      ]
    },
    {
      "cell_type": "code",
      "metadata": {
        "id": "Um5dnlMh8FfK",
        "colab_type": "code",
        "colab": {}
      },
      "source": [
        "# f, ax = plt.subplots(figsize=(7, 6))\n",
        "# sns.distplot(df['platform_os'], bins = 20, color = 'blue')\n",
        "# ax.set(ylabel=\"Frequency\")\n",
        "# ax.set(xlabel=\"platform_os\")\n",
        "# ax.set(title=\"platform_os distribution\")\n",
        "\n",
        "# print(df.platform_os.nunique())"
      ],
      "execution_count": 9,
      "outputs": []
    },
    {
      "cell_type": "code",
      "metadata": {
        "id": "lSImgnrWAWlY",
        "colab_type": "code",
        "colab": {}
      },
      "source": [
        "# f, ax = plt.subplots(figsize=(7, 6))\n",
        "# sns.distplot(df['hour'], bins = 20, color = 'Magenta')\n",
        "# ax.set(ylabel=\"Frequency\")\n",
        "# ax.set(xlabel=\"hour\")\n",
        "# ax.set(title=\"hour distribution\")"
      ],
      "execution_count": 10,
      "outputs": []
    },
    {
      "cell_type": "code",
      "metadata": {
        "id": "C8nbkg-5ArRF",
        "colab_type": "code",
        "colab": {}
      },
      "source": [
        "# df.hour.value_counts()"
      ],
      "execution_count": 11,
      "outputs": []
    },
    {
      "cell_type": "markdown",
      "metadata": {
        "id": "8HOFVYWhBKem",
        "colab_type": "text"
      },
      "source": [
        "### 3.5 Correlation\n",
        "\n",
        "Checking correlation to avoid multicolinearity issues in predictor features.\n",
        "\n",
        "We do not expect the features to be correlated.\n"
      ]
    },
    {
      "cell_type": "code",
      "metadata": {
        "id": "8c_152gYBKrp",
        "colab_type": "code",
        "colab": {
          "base_uri": "https://localhost:8080/",
          "height": 379
        },
        "outputId": "a65f3b0a-365d-4c42-81a8-6ccacaaf532b"
      },
      "source": [
        "def correlation_map(f_data, f_feature, f_number):\n",
        "    f_most_correlated = f_data.corr().nlargest(f_number,f_feature)[f_feature].index\n",
        "    f_correlation = f_data[f_most_correlated].corr()\n",
        "    \n",
        "    f_mask = np.zeros_like(f_correlation)\n",
        "    f_mask[np.triu_indices_from(f_mask)] = True\n",
        "    with sns.axes_style(\"white\"):\n",
        "        f_fig, f_ax = plt.subplots(figsize=(8, 6))\n",
        "        f_ax = sns.heatmap(f_correlation, mask=f_mask, vmin=0, vmax=1, square=True,\n",
        "                           annot=True, annot_kws={\"size\": 10}, cmap=\"BuPu\")\n",
        "\n",
        "    plt.show()\n",
        "\n",
        "correlation_map(df, 'yes', 4)"
      ],
      "execution_count": 12,
      "outputs": [
        {
          "output_type": "display_data",
          "data": {
            "image/png": "[encoded data removed]",
            "text/plain": [
              "<Figure size 576x432 with 2 Axes>"
            ]
          },
          "metadata": {
            "tags": []
          }
        }
      ]
    },
    {
      "cell_type": "markdown",
      "metadata": {
        "id": "pN6HWAePCJuQ",
        "colab_type": "text"
      },
      "source": [
        "Like we expected, so no multicolinearity worries."
      ]
    },
    {
      "cell_type": "markdown",
      "metadata": {
        "id": "XxxnQDWxSeZY",
        "colab_type": "text"
      },
      "source": [
        "### 3.6 Feature Generation and Reduction"
      ]
    },
    {
      "cell_type": "code",
      "metadata": {
        "id": "rxa91uNMShUn",
        "colab_type": "code",
        "colab": {
          "base_uri": "https://localhost:8080/",
          "height": 206
        },
        "outputId": "9b59862f-d1fc-406a-e45b-6c9ab16a0313"
      },
      "source": [
        "# Feature generation\n",
        "df['date'] = pd.to_datetime(df['date'],format='%Y-%m-%d')  # convert date to datetime object\n",
        "# df['day']=df['date'].dt.day                       #extract the day\n",
        "df['dayofweek_num']=df['date'].dt.dayofweek       # extract the day of the week\n",
        "\n",
        "# features reduction\n",
        "df = df.drop(['date'], axis = 1)  #drop  the date col\n",
        "df = df.drop(['auction_id'], axis = 1)  #drop  the auction_id col\n",
        "df.tail(5)"
      ],
      "execution_count": 13,
      "outputs": [
        {
          "output_type": "execute_result",
          "data": {
            "text/html": [
              "<div>\n",
              "<style scoped>\n",
              "    .dataframe tbody tr th:only-of-type {\n",
              "        vertical-align: middle;\n",
              "    }\n",
              "\n",
              "    .dataframe tbody tr th {\n",
              "        vertical-align: top;\n",
              "    }\n",
              "\n",
              "    .dataframe thead th {\n",
              "        text-align: right;\n",
              "    }\n",
              "</style>\n",
              "<table border=\"1\" class=\"dataframe\">\n",
              "  <thead>\n",
              "    <tr style=\"text-align: right;\">\n",
              "      <th></th>\n",
              "      <th>experiment</th>\n",
              "      <th>device_make</th>\n",
              "      <th>browser</th>\n",
              "      <th>hour</th>\n",
              "      <th>platform_os</th>\n",
              "      <th>yes</th>\n",
              "      <th>no</th>\n",
              "      <th>dayofweek_num</th>\n",
              "    </tr>\n",
              "  </thead>\n",
              "  <tbody>\n",
              "    <tr>\n",
              "      <th>8072</th>\n",
              "      <td>exposed</td>\n",
              "      <td>Generic Smartphone</td>\n",
              "      <td>Chrome Mobile</td>\n",
              "      <td>7</td>\n",
              "      <td>6</td>\n",
              "      <td>0</td>\n",
              "      <td>0</td>\n",
              "      <td>6</td>\n",
              "    </tr>\n",
              "    <tr>\n",
              "      <th>8073</th>\n",
              "      <td>control</td>\n",
              "      <td>Generic Smartphone</td>\n",
              "      <td>Chrome Mobile</td>\n",
              "      <td>15</td>\n",
              "      <td>6</td>\n",
              "      <td>0</td>\n",
              "      <td>0</td>\n",
              "      <td>4</td>\n",
              "    </tr>\n",
              "    <tr>\n",
              "      <th>8074</th>\n",
              "      <td>control</td>\n",
              "      <td>Generic Smartphone</td>\n",
              "      <td>Chrome Mobile</td>\n",
              "      <td>9</td>\n",
              "      <td>6</td>\n",
              "      <td>0</td>\n",
              "      <td>0</td>\n",
              "      <td>5</td>\n",
              "    </tr>\n",
              "    <tr>\n",
              "      <th>8075</th>\n",
              "      <td>exposed</td>\n",
              "      <td>Samsung SM-A515F</td>\n",
              "      <td>Samsung Internet</td>\n",
              "      <td>15</td>\n",
              "      <td>6</td>\n",
              "      <td>0</td>\n",
              "      <td>0</td>\n",
              "      <td>6</td>\n",
              "    </tr>\n",
              "    <tr>\n",
              "      <th>8076</th>\n",
              "      <td>control</td>\n",
              "      <td>Samsung SM-G960F</td>\n",
              "      <td>Facebook</td>\n",
              "      <td>14</td>\n",
              "      <td>6</td>\n",
              "      <td>0</td>\n",
              "      <td>0</td>\n",
              "      <td>4</td>\n",
              "    </tr>\n",
              "  </tbody>\n",
              "</table>\n",
              "</div>"
            ],
            "text/plain": [
              "     experiment         device_make           browser  ...  yes  no  dayofweek_num\n",
              "8072    exposed  Generic Smartphone     Chrome Mobile  ...    0   0              6\n",
              "8073    control  Generic Smartphone     Chrome Mobile  ...    0   0              4\n",
              "8074    control  Generic Smartphone     Chrome Mobile  ...    0   0              5\n",
              "8075    exposed    Samsung SM-A515F  Samsung Internet  ...    0   0              6\n",
              "8076    control    Samsung SM-G960F          Facebook  ...    0   0              4\n",
              "\n",
              "[5 rows x 8 columns]"
            ]
          },
          "metadata": {
            "tags": []
          },
          "execution_count": 13
        }
      ]
    },
    {
      "cell_type": "markdown",
      "metadata": {
        "id": "mns5XT2T4cMO",
        "colab_type": "text"
      },
      "source": [
        "### 3.7 Remapping categorical variables\n"
      ]
    },
    {
      "cell_type": "code",
      "metadata": {
        "id": "55KuQ40E0Ik1",
        "colab_type": "code",
        "colab": {
          "base_uri": "https://localhost:8080/",
          "height": 191
        },
        "outputId": "68093dd8-d613-4c15-dccd-88cd84e5ce18"
      },
      "source": [
        "#check the datatypes\n",
        "print(df.shape)\n",
        "df.dtypes"
      ],
      "execution_count": 14,
      "outputs": [
        {
          "output_type": "stream",
          "text": [
            "(8077, 8)\n"
          ],
          "name": "stdout"
        },
        {
          "output_type": "execute_result",
          "data": {
            "text/plain": [
              "experiment       object\n",
              "device_make      object\n",
              "browser          object\n",
              "hour              int64\n",
              "platform_os       int64\n",
              "yes               int64\n",
              "no                int64\n",
              "dayofweek_num     int64\n",
              "dtype: object"
            ]
          },
          "metadata": {
            "tags": []
          },
          "execution_count": 14
        }
      ]
    },
    {
      "cell_type": "code",
      "metadata": {
        "id": "_TPztgTgMuQv",
        "colab_type": "code",
        "colab": {
          "base_uri": "https://localhost:8080/",
          "height": 34
        },
        "outputId": "d882c3ae-320f-4213-aebe-aa3307e077c7"
      },
      "source": [
        "# get the location of the 3 categorical columns\n",
        "features = df.copy()\n",
        "indices = []\n",
        "for col in ['browser', 'experiment', 'device_make']:\n",
        "    k = features.columns.get_loc(col)\n",
        "    indices.append(k)\n",
        "    \n",
        "indices"
      ],
      "execution_count": 15,
      "outputs": [
        {
          "output_type": "execute_result",
          "data": {
            "text/plain": [
              "[2, 0, 1]"
            ]
          },
          "metadata": {
            "tags": []
          },
          "execution_count": 15
        }
      ]
    },
    {
      "cell_type": "code",
      "metadata": {
        "id": "or94jPy0zu-3",
        "colab_type": "code",
        "colab": {
          "base_uri": "https://localhost:8080/",
          "height": 224
        },
        "outputId": "49b84e47-d1ab-4487-d9f3-394996427466"
      },
      "source": [
        "# Encoding categorical variables using Label Encoder\n",
        "columns = indices\n",
        "for col in columns:\n",
        "    x = features.iloc[:, col].values\n",
        "    x = x.reshape(-1,1)\n",
        "    encoder = LabelEncoder()\n",
        "    encoder = encoder.fit(x)\n",
        "    x = encoder.transform(x)\n",
        "    features.iloc[:, col] = x \n",
        "\n",
        "# features = pd.get_dummies(df)\n",
        "print(features.shape)\n",
        "features.head()"
      ],
      "execution_count": 16,
      "outputs": [
        {
          "output_type": "stream",
          "text": [
            "(8077, 8)\n"
          ],
          "name": "stdout"
        },
        {
          "output_type": "execute_result",
          "data": {
            "text/html": [
              "<div>\n",
              "<style scoped>\n",
              "    .dataframe tbody tr th:only-of-type {\n",
              "        vertical-align: middle;\n",
              "    }\n",
              "\n",
              "    .dataframe tbody tr th {\n",
              "        vertical-align: top;\n",
              "    }\n",
              "\n",
              "    .dataframe thead th {\n",
              "        text-align: right;\n",
              "    }\n",
              "</style>\n",
              "<table border=\"1\" class=\"dataframe\">\n",
              "  <thead>\n",
              "    <tr style=\"text-align: right;\">\n",
              "      <th></th>\n",
              "      <th>experiment</th>\n",
              "      <th>device_make</th>\n",
              "      <th>browser</th>\n",
              "      <th>hour</th>\n",
              "      <th>platform_os</th>\n",
              "      <th>yes</th>\n",
              "      <th>no</th>\n",
              "      <th>dayofweek_num</th>\n",
              "    </tr>\n",
              "  </thead>\n",
              "  <tbody>\n",
              "    <tr>\n",
              "      <th>0</th>\n",
              "      <td>1</td>\n",
              "      <td>46</td>\n",
              "      <td>2</td>\n",
              "      <td>8</td>\n",
              "      <td>6</td>\n",
              "      <td>0</td>\n",
              "      <td>0</td>\n",
              "      <td>4</td>\n",
              "    </tr>\n",
              "    <tr>\n",
              "      <th>1</th>\n",
              "      <td>1</td>\n",
              "      <td>46</td>\n",
              "      <td>2</td>\n",
              "      <td>10</td>\n",
              "      <td>6</td>\n",
              "      <td>0</td>\n",
              "      <td>0</td>\n",
              "      <td>1</td>\n",
              "    </tr>\n",
              "    <tr>\n",
              "      <th>2</th>\n",
              "      <td>1</td>\n",
              "      <td>29</td>\n",
              "      <td>3</td>\n",
              "      <td>2</td>\n",
              "      <td>6</td>\n",
              "      <td>0</td>\n",
              "      <td>1</td>\n",
              "      <td>6</td>\n",
              "    </tr>\n",
              "    <tr>\n",
              "      <th>3</th>\n",
              "      <td>0</td>\n",
              "      <td>137</td>\n",
              "      <td>6</td>\n",
              "      <td>15</td>\n",
              "      <td>6</td>\n",
              "      <td>0</td>\n",
              "      <td>0</td>\n",
              "      <td>4</td>\n",
              "    </tr>\n",
              "    <tr>\n",
              "      <th>4</th>\n",
              "      <td>0</td>\n",
              "      <td>46</td>\n",
              "      <td>2</td>\n",
              "      <td>15</td>\n",
              "      <td>6</td>\n",
              "      <td>0</td>\n",
              "      <td>0</td>\n",
              "      <td>4</td>\n",
              "    </tr>\n",
              "  </tbody>\n",
              "</table>\n",
              "</div>"
            ],
            "text/plain": [
              "   experiment  device_make  browser  hour  platform_os  yes  no  dayofweek_num\n",
              "0           1           46        2     8            6    0   0              4\n",
              "1           1           46        2    10            6    0   0              1\n",
              "2           1           29        3     2            6    0   1              6\n",
              "3           0          137        6    15            6    0   0              4\n",
              "4           0           46        2    15            6    0   0              4"
            ]
          },
          "metadata": {
            "tags": []
          },
          "execution_count": 16
        }
      ]
    },
    {
      "cell_type": "markdown",
      "metadata": {
        "id": "OmB0yGSQXIk1",
        "colab_type": "text"
      },
      "source": [
        "## 4. Modelling"
      ]
    },
    {
      "cell_type": "markdown",
      "metadata": {
        "id": "lyrAY7ptFhww",
        "colab_type": "text"
      },
      "source": [
        "### 4.1 Train , Validation and Test Sets (70, 20, 10)\n",
        "Predictor + target variables"
      ]
    },
    {
      "cell_type": "code",
      "metadata": {
        "id": "dAPJVK6kG_L1",
        "colab_type": "code",
        "colab": {
          "base_uri": "https://localhost:8080/",
          "height": 104
        },
        "outputId": "1c3f45fa-b65e-401f-bd6f-08cd711abe17"
      },
      "source": [
        "# create the target variable from the yes/no cols then drop yes/no cols\n",
        "\n",
        "# the 1s in yes remain the same, the 1s in no become 2s, the entries with 0s in both cols remain as 0s.\n",
        "features['target'] = 0\n",
        "features.loc[features['yes'] ==1, 'target'] = 1\n",
        "features.loc[features['no'] ==1, 'target'] = 2\n",
        "features = features.drop(['yes', 'no'], axis = 1)\n",
        "# features = features[features.target != 0]\n",
        "# features.loc[features['target'] ==2, 'target'] = 0\n",
        "print(features.shape)\n",
        "features.target.value_counts()"
      ],
      "execution_count": 17,
      "outputs": [
        {
          "output_type": "stream",
          "text": [
            "(8077, 7)\n"
          ],
          "name": "stdout"
        },
        {
          "output_type": "execute_result",
          "data": {
            "text/plain": [
              "0    6834\n",
              "2     671\n",
              "1     572\n",
              "Name: target, dtype: int64"
            ]
          },
          "metadata": {
            "tags": []
          },
          "execution_count": 17
        }
      ]
    },
    {
      "cell_type": "code",
      "metadata": {
        "id": "Y94BhsGlaIs4",
        "colab_type": "code",
        "colab": {
          "base_uri": "https://localhost:8080/",
          "height": 206
        },
        "outputId": "2dd2d975-a548-4fcb-d315-f96cf1785390"
      },
      "source": [
        "features.head()"
      ],
      "execution_count": 18,
      "outputs": [
        {
          "output_type": "execute_result",
          "data": {
            "text/html": [
              "<div>\n",
              "<style scoped>\n",
              "    .dataframe tbody tr th:only-of-type {\n",
              "        vertical-align: middle;\n",
              "    }\n",
              "\n",
              "    .dataframe tbody tr th {\n",
              "        vertical-align: top;\n",
              "    }\n",
              "\n",
              "    .dataframe thead th {\n",
              "        text-align: right;\n",
              "    }\n",
              "</style>\n",
              "<table border=\"1\" class=\"dataframe\">\n",
              "  <thead>\n",
              "    <tr style=\"text-align: right;\">\n",
              "      <th></th>\n",
              "      <th>experiment</th>\n",
              "      <th>device_make</th>\n",
              "      <th>browser</th>\n",
              "      <th>hour</th>\n",
              "      <th>platform_os</th>\n",
              "      <th>dayofweek_num</th>\n",
              "      <th>target</th>\n",
              "    </tr>\n",
              "  </thead>\n",
              "  <tbody>\n",
              "    <tr>\n",
              "      <th>0</th>\n",
              "      <td>1</td>\n",
              "      <td>46</td>\n",
              "      <td>2</td>\n",
              "      <td>8</td>\n",
              "      <td>6</td>\n",
              "      <td>4</td>\n",
              "      <td>0</td>\n",
              "    </tr>\n",
              "    <tr>\n",
              "      <th>1</th>\n",
              "      <td>1</td>\n",
              "      <td>46</td>\n",
              "      <td>2</td>\n",
              "      <td>10</td>\n",
              "      <td>6</td>\n",
              "      <td>1</td>\n",
              "      <td>0</td>\n",
              "    </tr>\n",
              "    <tr>\n",
              "      <th>2</th>\n",
              "      <td>1</td>\n",
              "      <td>29</td>\n",
              "      <td>3</td>\n",
              "      <td>2</td>\n",
              "      <td>6</td>\n",
              "      <td>6</td>\n",
              "      <td>2</td>\n",
              "    </tr>\n",
              "    <tr>\n",
              "      <th>3</th>\n",
              "      <td>0</td>\n",
              "      <td>137</td>\n",
              "      <td>6</td>\n",
              "      <td>15</td>\n",
              "      <td>6</td>\n",
              "      <td>4</td>\n",
              "      <td>0</td>\n",
              "    </tr>\n",
              "    <tr>\n",
              "      <th>4</th>\n",
              "      <td>0</td>\n",
              "      <td>46</td>\n",
              "      <td>2</td>\n",
              "      <td>15</td>\n",
              "      <td>6</td>\n",
              "      <td>4</td>\n",
              "      <td>0</td>\n",
              "    </tr>\n",
              "  </tbody>\n",
              "</table>\n",
              "</div>"
            ],
            "text/plain": [
              "   experiment  device_make  browser  hour  platform_os  dayofweek_num  target\n",
              "0           1           46        2     8            6              4       0\n",
              "1           1           46        2    10            6              1       0\n",
              "2           1           29        3     2            6              6       2\n",
              "3           0          137        6    15            6              4       0\n",
              "4           0           46        2    15            6              4       0"
            ]
          },
          "metadata": {
            "tags": []
          },
          "execution_count": 18
        }
      ]
    },
    {
      "cell_type": "code",
      "metadata": {
        "id": "PEn0o4CJFuS5",
        "colab_type": "code",
        "colab": {
          "base_uri": "https://localhost:8080/",
          "height": 86
        },
        "outputId": "b58f48ec-d090-4968-fe44-563230721ba8"
      },
      "source": [
        "# dependent and independent variables\n",
        "x = features.drop(['target'], axis = 1)\n",
        "y = features[['target']]\n",
        "\n",
        "# split dataset to train and test sets (90:10)\n",
        "x_train, x_test, y_train, y_test = train_test_split(x,y, test_size = .1, random_state = 0)\n",
        "print('x train', x_train.shape)\n",
        "print('y train', y_train.shape)\n",
        "print('x test', x_test.shape)\n",
        "print('y test', y_test.shape)"
      ],
      "execution_count": 19,
      "outputs": [
        {
          "output_type": "stream",
          "text": [
            "x train (7269, 6)\n",
            "y train (7269, 1)\n",
            "x test (808, 6)\n",
            "y test (808, 1)\n"
          ],
          "name": "stdout"
        }
      ]
    },
    {
      "cell_type": "code",
      "metadata": {
        "id": "IH8Gt_RZKf2N",
        "colab_type": "code",
        "colab": {
          "base_uri": "https://localhost:8080/",
          "height": 121
        },
        "outputId": "0d69d747-fbf5-40f4-d695-de7eb35e895f"
      },
      "source": [
        "# get the validation set from the train set (70:20)\n",
        "\n",
        "# the % changes to 22 to be representative of the 20 expected originally\n",
        "x_train, x_val, y_train, y_val = train_test_split(x_train,y_train, test_size = .22, random_state = 0)\n",
        "print('x train', x_train.shape)\n",
        "print('y train', y_train.shape)\n",
        "print('x validation', x_val.shape)\n",
        "print('y validation', y_val.shape)\n",
        "print('x test', x_test.shape)\n",
        "print('y test', y_test.shape)"
      ],
      "execution_count": 20,
      "outputs": [
        {
          "output_type": "stream",
          "text": [
            "x train (5669, 6)\n",
            "y train (5669, 1)\n",
            "x validation (1600, 6)\n",
            "y validation (1600, 1)\n",
            "x test (808, 6)\n",
            "y test (808, 1)\n"
          ],
          "name": "stdout"
        }
      ]
    },
    {
      "cell_type": "markdown",
      "metadata": {
        "id": "bikvWAMtK4Fr",
        "colab_type": "text"
      },
      "source": [
        "### 4.2 Logistic Regression\n",
        "\n",
        "**Logistic regression** is a statistical model that in its basic form uses a logistic function to model a binary dependent variable."
      ]
    },
    {
      "cell_type": "code",
      "metadata": {
        "id": "KcTd_z9UK9E6",
        "colab_type": "code",
        "colab": {
          "base_uri": "https://localhost:8080/",
          "height": 52
        },
        "outputId": "350d4215-6bba-432c-e3e2-ae3fd25547e2"
      },
      "source": [
        "# create the regressor\n",
        "regressor = LogisticRegression(solver = 'lbfgs', random_state=42)\n",
        "regressor.fit(x_train, y_train)\n",
        "\n",
        "scores = cross_val_score(estimator = regressor, X = x_train, y = y_train, cv = 5)\n",
        "print(scores)\n",
        "print(\"mean Logistic regression score : \", scores.mean())"
      ],
      "execution_count": 21,
      "outputs": [
        {
          "output_type": "stream",
          "text": [
            "[0.84038801 0.84038801 0.84038801 0.84038801 0.84024713]\n",
            "mean Logistic regression score :  0.8403598319455925\n"
          ],
          "name": "stdout"
        }
      ]
    },
    {
      "cell_type": "code",
      "metadata": {
        "id": "UgGgmAN1QmTg",
        "colab_type": "code",
        "colab": {
          "base_uri": "https://localhost:8080/",
          "height": 238
        },
        "outputId": "c7a8f1bc-6a58-44b4-d813-d31ef509275c"
      },
      "source": [
        "# feature importance\n",
        "feat_imp_dict = dict(zip(x_train.columns, regressor.coef_[0]))\n",
        "feat_imp = pd.DataFrame.from_dict(feat_imp_dict, orient='index')\n",
        "feat_imp.rename(columns = {0:'FeatureImportance'}, inplace = True)\n",
        "feat_imp.sort_values(by=['FeatureImportance'], ascending=False)"
      ],
      "execution_count": 22,
      "outputs": [
        {
          "output_type": "execute_result",
          "data": {
            "text/html": [
              "<div>\n",
              "<style scoped>\n",
              "    .dataframe tbody tr th:only-of-type {\n",
              "        vertical-align: middle;\n",
              "    }\n",
              "\n",
              "    .dataframe tbody tr th {\n",
              "        vertical-align: top;\n",
              "    }\n",
              "\n",
              "    .dataframe thead th {\n",
              "        text-align: right;\n",
              "    }\n",
              "</style>\n",
              "<table border=\"1\" class=\"dataframe\">\n",
              "  <thead>\n",
              "    <tr style=\"text-align: right;\">\n",
              "      <th></th>\n",
              "      <th>FeatureImportance</th>\n",
              "    </tr>\n",
              "  </thead>\n",
              "  <tbody>\n",
              "    <tr>\n",
              "      <th>platform_os</th>\n",
              "      <td>0.245862</td>\n",
              "    </tr>\n",
              "    <tr>\n",
              "      <th>device_make</th>\n",
              "      <td>0.001805</td>\n",
              "    </tr>\n",
              "    <tr>\n",
              "      <th>dayofweek_num</th>\n",
              "      <td>0.001700</td>\n",
              "    </tr>\n",
              "    <tr>\n",
              "      <th>hour</th>\n",
              "      <td>-0.000144</td>\n",
              "    </tr>\n",
              "    <tr>\n",
              "      <th>browser</th>\n",
              "      <td>-0.017899</td>\n",
              "    </tr>\n",
              "    <tr>\n",
              "      <th>experiment</th>\n",
              "      <td>-0.115166</td>\n",
              "    </tr>\n",
              "  </tbody>\n",
              "</table>\n",
              "</div>"
            ],
            "text/plain": [
              "               FeatureImportance\n",
              "platform_os             0.245862\n",
              "device_make             0.001805\n",
              "dayofweek_num           0.001700\n",
              "hour                   -0.000144\n",
              "browser                -0.017899\n",
              "experiment             -0.115166"
            ]
          },
          "metadata": {
            "tags": []
          },
          "execution_count": 22
        }
      ]
    },
    {
      "cell_type": "code",
      "metadata": {
        "id": "QPon4PIK8lbg",
        "colab_type": "code",
        "colab": {
          "base_uri": "https://localhost:8080/",
          "height": 104
        },
        "outputId": "0b904e5f-5553-4370-adfe-543c325c567a"
      },
      "source": [
        "# feature weights for every class\n",
        "coef_0=regressor.coef_[0]\n",
        "coef_1=regressor.coef_[1]\n",
        "coef_2=regressor.coef_[2]\n",
        "print(coef_0)\n",
        "print(coef_1)\n",
        "print(coef_2)"
      ],
      "execution_count": 23,
      "outputs": [
        {
          "output_type": "stream",
          "text": [
            "[-1.15165881e-01  1.80501937e-03 -1.78985548e-02 -1.44437583e-04\n",
            "  2.45862116e-01  1.70020719e-03]\n",
            "[ 7.88404298e-02  4.30507157e-05 -6.80950968e-03  9.41292926e-03\n",
            " -1.43883233e-01 -2.27142482e-02]\n",
            "[ 0.03632545 -0.00184807  0.02470806 -0.00926849 -0.10197888  0.02101404]\n"
          ],
          "name": "stdout"
        }
      ]
    },
    {
      "cell_type": "markdown",
      "metadata": {
        "id": "4no0j3lXNZ1y",
        "colab_type": "text"
      },
      "source": [
        "### 4.3 XGB\n",
        "**XGBoost** is an optimized distributed gradient boosting library designed to be highly efficient, flexible and portable. It implements machine learning algorithms under the Gradient Boosting framework.\n",
        "\n",
        "[The documentation.](https://xgboost.readthedocs.io/en/latest/)"
      ]
    },
    {
      "cell_type": "code",
      "metadata": {
        "id": "onjl7EeXNbLO",
        "colab_type": "code",
        "colab": {
          "base_uri": "https://localhost:8080/",
          "height": 52
        },
        "outputId": "0936d48f-6e1e-4b90-f299-661fa334e0b6"
      },
      "source": [
        "### XGB\n",
        "xgb = XGBClassifier(random_state=42, )\n",
        "xgb.fit(x_train, y_train)\n",
        "\n",
        "scores = cross_val_score(estimator = xgb, X = x_train, y = y_train, cv = 5)\n",
        "print(scores)\n",
        "print(\"mean xgb score : \", scores.mean())"
      ],
      "execution_count": 24,
      "outputs": [
        {
          "output_type": "stream",
          "text": [
            "[0.84038801 0.84038801 0.84038801 0.84038801 0.84024713]\n",
            "mean xgb score :  0.8403598319455925\n"
          ],
          "name": "stdout"
        }
      ]
    },
    {
      "cell_type": "code",
      "metadata": {
        "id": "OaZ4Xv4eRRab",
        "colab_type": "code",
        "colab": {
          "base_uri": "https://localhost:8080/",
          "height": 206
        },
        "outputId": "a62e7b0b-9b8d-47ed-a5ad-b4699864fb8a"
      },
      "source": [
        "# feature importance\n",
        "feat_imp_dict = dict(zip(x_train.columns, xgb.feature_importances_))\n",
        "feat_imp_2 = pd.DataFrame.from_dict(feat_imp_dict, orient='index')\n",
        "feat_imp_2.rename(columns = {0:'FeatureImportance'}, inplace = True)\n",
        "feat_imp_2.sort_values(by=['FeatureImportance'], ascending=False).head()"
      ],
      "execution_count": 25,
      "outputs": [
        {
          "output_type": "execute_result",
          "data": {
            "text/html": [
              "<div>\n",
              "<style scoped>\n",
              "    .dataframe tbody tr th:only-of-type {\n",
              "        vertical-align: middle;\n",
              "    }\n",
              "\n",
              "    .dataframe tbody tr th {\n",
              "        vertical-align: top;\n",
              "    }\n",
              "\n",
              "    .dataframe thead th {\n",
              "        text-align: right;\n",
              "    }\n",
              "</style>\n",
              "<table border=\"1\" class=\"dataframe\">\n",
              "  <thead>\n",
              "    <tr style=\"text-align: right;\">\n",
              "      <th></th>\n",
              "      <th>FeatureImportance</th>\n",
              "    </tr>\n",
              "  </thead>\n",
              "  <tbody>\n",
              "    <tr>\n",
              "      <th>experiment</th>\n",
              "      <td>0.268051</td>\n",
              "    </tr>\n",
              "    <tr>\n",
              "      <th>device_make</th>\n",
              "      <td>0.254569</td>\n",
              "    </tr>\n",
              "    <tr>\n",
              "      <th>dayofweek_num</th>\n",
              "      <td>0.173090</td>\n",
              "    </tr>\n",
              "    <tr>\n",
              "      <th>browser</th>\n",
              "      <td>0.168532</td>\n",
              "    </tr>\n",
              "    <tr>\n",
              "      <th>hour</th>\n",
              "      <td>0.135758</td>\n",
              "    </tr>\n",
              "  </tbody>\n",
              "</table>\n",
              "</div>"
            ],
            "text/plain": [
              "               FeatureImportance\n",
              "experiment              0.268051\n",
              "device_make             0.254569\n",
              "dayofweek_num           0.173090\n",
              "browser                 0.168532\n",
              "hour                    0.135758"
            ]
          },
          "metadata": {
            "tags": []
          },
          "execution_count": 25
        }
      ]
    },
    {
      "cell_type": "markdown",
      "metadata": {
        "id": "5929dV6YOg5B",
        "colab_type": "text"
      },
      "source": [
        "### 4.4 Decision Trees\n",
        "\n",
        "A **decision tree** is a decision support tool that uses a tree-like model of decisions and their possible consequences. It is one way to display an algorithm that only contains conditional control statements.\n",
        "\n",
        "A **decision tree classifier** (Pang-Ning et al., 2006) creates the classification model by building a decision tree. Each node in the tree specifies a test on an attribute, each branch descending from that node corresponds to one of the possible values for that attribute.\n"
      ]
    },
    {
      "cell_type": "code",
      "metadata": {
        "id": "nK_4zbxTOi-L",
        "colab_type": "code",
        "colab": {
          "base_uri": "https://localhost:8080/",
          "height": 52
        },
        "outputId": "2a5c3990-2201-45ad-f583-f3beccd8a1a6"
      },
      "source": [
        "### dt\n",
        "tree = DecisionTreeClassifier(random_state=42)\n",
        "tree.fit(x_train, y_train)\n",
        "\n",
        "scores = cross_val_score(estimator = tree, X = x_train, y = y_train, cv = 5)\n",
        "print(scores)\n",
        "print(\"mean decision trees score : \", scores.mean())"
      ],
      "execution_count": 26,
      "outputs": [
        {
          "output_type": "stream",
          "text": [
            "[0.78659612 0.78659612 0.77601411 0.78835979 0.79082083]\n",
            "mean decision trees score :  0.7856773934443837\n"
          ],
          "name": "stdout"
        }
      ]
    },
    {
      "cell_type": "code",
      "metadata": {
        "id": "gw47WcXnQ8Nq",
        "colab_type": "code",
        "colab": {
          "base_uri": "https://localhost:8080/",
          "height": 206
        },
        "outputId": "38dbb88e-3ca0-4c65-e17f-cae76b5d5c4c"
      },
      "source": [
        "# feature importance\n",
        "feat_importance = tree.tree_.compute_feature_importances(normalize=False)\n",
        "feat_imp_dict = dict(zip(x_train.columns, tree.feature_importances_))\n",
        "feat_imp_3 = pd.DataFrame.from_dict(feat_imp_dict, orient='index')\n",
        "feat_imp_3.rename(columns = {0:'FeatureImportance'}, inplace = True)\n",
        "feat_imp_3.sort_values(by=['FeatureImportance'], ascending=False).head()"
      ],
      "execution_count": 27,
      "outputs": [
        {
          "output_type": "execute_result",
          "data": {
            "text/html": [
              "<div>\n",
              "<style scoped>\n",
              "    .dataframe tbody tr th:only-of-type {\n",
              "        vertical-align: middle;\n",
              "    }\n",
              "\n",
              "    .dataframe tbody tr th {\n",
              "        vertical-align: top;\n",
              "    }\n",
              "\n",
              "    .dataframe thead th {\n",
              "        text-align: right;\n",
              "    }\n",
              "</style>\n",
              "<table border=\"1\" class=\"dataframe\">\n",
              "  <thead>\n",
              "    <tr style=\"text-align: right;\">\n",
              "      <th></th>\n",
              "      <th>FeatureImportance</th>\n",
              "    </tr>\n",
              "  </thead>\n",
              "  <tbody>\n",
              "    <tr>\n",
              "      <th>hour</th>\n",
              "      <td>0.375665</td>\n",
              "    </tr>\n",
              "    <tr>\n",
              "      <th>device_make</th>\n",
              "      <td>0.329600</td>\n",
              "    </tr>\n",
              "    <tr>\n",
              "      <th>dayofweek_num</th>\n",
              "      <td>0.206457</td>\n",
              "    </tr>\n",
              "    <tr>\n",
              "      <th>browser</th>\n",
              "      <td>0.062996</td>\n",
              "    </tr>\n",
              "    <tr>\n",
              "      <th>experiment</th>\n",
              "      <td>0.025282</td>\n",
              "    </tr>\n",
              "  </tbody>\n",
              "</table>\n",
              "</div>"
            ],
            "text/plain": [
              "               FeatureImportance\n",
              "hour                    0.375665\n",
              "device_make             0.329600\n",
              "dayofweek_num           0.206457\n",
              "browser                 0.062996\n",
              "experiment              0.025282"
            ]
          },
          "metadata": {
            "tags": []
          },
          "execution_count": 27
        }
      ]
    },
    {
      "cell_type": "markdown",
      "metadata": {
        "id": "O8RW_P8AqAQP",
        "colab_type": "text"
      },
      "source": [
        "**experiment** appears twice in the top 5 most important features out of the 3 algorithms. "
      ]
    },
    {
      "cell_type": "markdown",
      "metadata": {
        "id": "9e4qmKCur346",
        "colab_type": "text"
      },
      "source": [
        "### 4.5 Model Performance plot"
      ]
    },
    {
      "cell_type": "code",
      "metadata": {
        "id": "xHr64Mk8r9GM",
        "colab_type": "code",
        "colab": {
          "base_uri": "https://localhost:8080/",
          "height": 312
        },
        "outputId": "4f53dd37-2991-408a-cc0e-f668781e9ee6"
      },
      "source": [
        "# create accuracies df then plot\n",
        "data = {'accuracy': [0.8403598319455925 * 100,  0.8403598319455925 * 100,  0.7856773934443837 * 100], \n",
        "        'model': ['Logistic Regression' , 'XGB', 'Decision Trees']}\n",
        "df = pd.DataFrame(data, columns = ['accuracy', 'model'])\n",
        "# plot\n",
        "plt.figure(figsize = (6,4))\n",
        "sns.barplot(y = df.accuracy, x = df.model)\n",
        "plt.title('barplot indicating model performances')"
      ],
      "execution_count": 28,
      "outputs": [
        {
          "output_type": "execute_result",
          "data": {
            "text/plain": [
              "Text(0.5, 1.0, 'barplot indicating model performances')"
            ]
          },
          "metadata": {
            "tags": []
          },
          "execution_count": 28
        },
        {
          "output_type": "display_data",
          "data": {
            "image/png": "[encoded data removed]",
            "text/plain": [
              "<Figure size 432x288 with 1 Axes>"
            ]
          },
          "metadata": {
            "tags": [],
            "needs_background": "light"
          }
        }
      ]
    },
    {
      "cell_type": "markdown",
      "metadata": {
        "id": "xV-_sCgiqtP1",
        "colab_type": "text"
      },
      "source": [
        "### 4.6 Loss Functions\n",
        "\n",
        "It’s a method of evaluating how well an algorithm models the given data. If predictions deviates too much from actual results, loss function will be high."
      ]
    },
    {
      "cell_type": "code",
      "metadata": {
        "id": "rROfZmtOqwEy",
        "colab_type": "code",
        "colab": {
          "base_uri": "https://localhost:8080/",
          "height": 34
        },
        "outputId": "513f09ed-10cc-4706-b69d-62cb905f66ee"
      },
      "source": [
        "# log loss for logistic regression\n",
        "probabilities = regressor.predict_proba(x_val)\n",
        "# calculate log loss\n",
        "loss = log_loss(y_val, probabilities)\n",
        "loss"
      ],
      "execution_count": 29,
      "outputs": [
        {
          "output_type": "execute_result",
          "data": {
            "text/plain": [
              "0.519512717164833"
            ]
          },
          "metadata": {
            "tags": []
          },
          "execution_count": 29
        }
      ]
    },
    {
      "cell_type": "code",
      "metadata": {
        "id": "Ky1qAY8js_1d",
        "colab_type": "code",
        "colab": {
          "base_uri": "https://localhost:8080/",
          "height": 34
        },
        "outputId": "6e54755c-38d2-4ee8-e442-8f6181323d50"
      },
      "source": [
        "# log loss for xgb\n",
        "probabilities = xgb.predict_proba(x_val)\n",
        "# calculate log loss\n",
        "loss = log_loss(y_val, probabilities)\n",
        "loss"
      ],
      "execution_count": 30,
      "outputs": [
        {
          "output_type": "execute_result",
          "data": {
            "text/plain": [
              "0.5132259370622342"
            ]
          },
          "metadata": {
            "tags": []
          },
          "execution_count": 30
        }
      ]
    },
    {
      "cell_type": "code",
      "metadata": {
        "id": "B6ekibPt0SLL",
        "colab_type": "code",
        "colab": {
          "base_uri": "https://localhost:8080/",
          "height": 34
        },
        "outputId": "b99cd308-5b7b-4d9f-a217-e1c65a3e65a4"
      },
      "source": [
        "# log loss for dt\n",
        "probabilities = tree.predict_proba(x_val)\n",
        "# calculate log loss\n",
        "loss = log_loss(y_val, probabilities)\n",
        "loss"
      ],
      "execution_count": 31,
      "outputs": [
        {
          "output_type": "execute_result",
          "data": {
            "text/plain": [
              "4.914874985480904"
            ]
          },
          "metadata": {
            "tags": []
          },
          "execution_count": 31
        }
      ]
    },
    {
      "cell_type": "markdown",
      "metadata": {
        "id": "wDQw1LL50x6e",
        "colab_type": "text"
      },
      "source": [
        "### 4.7 Loss Plots"
      ]
    },
    {
      "cell_type": "code",
      "metadata": {
        "id": "VK-_I1BJtaCN",
        "colab_type": "code",
        "colab": {
          "base_uri": "https://localhost:8080/",
          "height": 312
        },
        "outputId": "be884ba8-0eeb-4f6d-a9d8-e655195a8676"
      },
      "source": [
        "# create accuracies df then plot\n",
        "data = {'loss': [0.519512717164833,  0.5132259370622342], \n",
        "        'model': ['Logistic Regression' , 'XGB']}\n",
        "df = pd.DataFrame(data, columns = ['loss', 'model'])\n",
        "# plot\n",
        "plt.figure(figsize = (6,4))\n",
        "sns.barplot(y = df.loss, x = df.model)\n",
        "plt.title('barplot indicating loss functions for different models')"
      ],
      "execution_count": 32,
      "outputs": [
        {
          "output_type": "execute_result",
          "data": {
            "text/plain": [
              "Text(0.5, 1.0, 'barplot indicating loss functions for different models')"
            ]
          },
          "metadata": {
            "tags": []
          },
          "execution_count": 32
        },
        {
          "output_type": "display_data",
          "data": {
            "image/png": "[encoded data removed]",
            "text/plain": [
              "<Figure size 432x288 with 1 Axes>"
            ]
          },
          "metadata": {
            "tags": [],
            "needs_background": "light"
          }
        }
      ]
    },
    {
      "cell_type": "markdown",
      "metadata": {
        "id": "a6CInhcNxbIj",
        "colab_type": "text"
      },
      "source": [
        "### 4.8 Feature Importance Plots"
      ]
    },
    {
      "cell_type": "code",
      "metadata": {
        "id": "ja8rFqLxxevn",
        "colab_type": "code",
        "colab": {
          "base_uri": "https://localhost:8080/",
          "height": 354
        },
        "outputId": "43b4f886-c40f-413a-f952-8a767b6d3c1d"
      },
      "source": [
        "# LR\n",
        "plt.figure(figsize = (6,4))\n",
        "sns.barplot(y = feat_imp.FeatureImportance, x = feat_imp.index)\n",
        "plt.title('Feature Importances in Logistic Regression')\n",
        "plt.xticks(rotation = 45)"
      ],
      "execution_count": 33,
      "outputs": [
        {
          "output_type": "execute_result",
          "data": {
            "text/plain": [
              "(array([0, 1, 2, 3, 4, 5]), <a list of 6 Text major ticklabel objects>)"
            ]
          },
          "metadata": {
            "tags": []
          },
          "execution_count": 33
        },
        {
          "output_type": "display_data",
          "data": {
            "image/png": "[encoded data removed]",
            "text/plain": [
              "<Figure size 432x288 with 1 Axes>"
            ]
          },
          "metadata": {
            "tags": [],
            "needs_background": "light"
          }
        }
      ]
    },
    {
      "cell_type": "code",
      "metadata": {
        "id": "qgAxwQn9xi1c",
        "colab_type": "code",
        "colab": {
          "base_uri": "https://localhost:8080/",
          "height": 354
        },
        "outputId": "cfe2a4a9-21d5-412a-c285-52f840b9bd1e"
      },
      "source": [
        "# XGB\n",
        "plt.figure(figsize = (6,4))\n",
        "sns.barplot(y = feat_imp_2.FeatureImportance, x = feat_imp_2.index)\n",
        "plt.title('Feature Importances in XGB')\n",
        "plt.xticks(rotation = 45)"
      ],
      "execution_count": 34,
      "outputs": [
        {
          "output_type": "execute_result",
          "data": {
            "text/plain": [
              "(array([0, 1, 2, 3, 4, 5]), <a list of 6 Text major ticklabel objects>)"
            ]
          },
          "metadata": {
            "tags": []
          },
          "execution_count": 34
        },
        {
          "output_type": "display_data",
          "data": {
            "image/png": "[encoded data removed]",
            "text/plain": [
              "<Figure size 432x288 with 1 Axes>"
            ]
          },
          "metadata": {
            "tags": [],
            "needs_background": "light"
          }
        }
      ]
    },
    {
      "cell_type": "code",
      "metadata": {
        "id": "0sr1q3Raxi4l",
        "colab_type": "code",
        "colab": {
          "base_uri": "https://localhost:8080/",
          "height": 354
        },
        "outputId": "59ebacca-b384-4aa5-bbc4-5f84b6dc3a0c"
      },
      "source": [
        "# DT\n",
        "plt.figure(figsize = (6,4))\n",
        "sns.barplot(y = feat_imp_3.FeatureImportance, x = feat_imp_3.index)\n",
        "plt.title('Feature Importances in Decision Trees')\n",
        "plt.xticks(rotation = 45)"
      ],
      "execution_count": 35,
      "outputs": [
        {
          "output_type": "execute_result",
          "data": {
            "text/plain": [
              "(array([0, 1, 2, 3, 4, 5]), <a list of 6 Text major ticklabel objects>)"
            ]
          },
          "metadata": {
            "tags": []
          },
          "execution_count": 35
        },
        {
          "output_type": "display_data",
          "data": {
            "image/png": "[encoded data removed]",
            "text/plain": [
              "<Figure size 432x288 with 1 Axes>"
            ]
          },
          "metadata": {
            "tags": [],
            "needs_background": "light"
          }
        }
      ]
    },
    {
      "cell_type": "markdown",
      "metadata": {
        "id": "DPTwSyS79S3a",
        "colab_type": "text"
      },
      "source": [
        "### 4.8 Predictions"
      ]
    },
    {
      "cell_type": "code",
      "metadata": {
        "id": "rNJRJxtm9Xpw",
        "colab_type": "code",
        "colab": {
          "base_uri": "https://localhost:8080/",
          "height": 86
        },
        "outputId": "4c7e0638-7da5-4255-eb87-ae15bc12b805"
      },
      "source": [
        "# using Decision Tree to run predictions on x_test\n",
        "y_pred = tree.predict(x_test)\n",
        "a = pd.DataFrame(y_pred)\n",
        "a.columns = ['pred']\n",
        "a.pred.value_counts()"
      ],
      "execution_count": 50,
      "outputs": [
        {
          "output_type": "execute_result",
          "data": {
            "text/plain": [
              "0    754\n",
              "2     27\n",
              "1     27\n",
              "Name: pred, dtype: int64"
            ]
          },
          "metadata": {
            "tags": []
          },
          "execution_count": 50
        }
      ]
    },
    {
      "cell_type": "code",
      "metadata": {
        "id": "4cAtptxQse1M",
        "colab_type": "code",
        "colab": {}
      },
      "source": [
        "!pip freeze > requirements.txt"
      ],
      "execution_count": 51,
      "outputs": []
    }
  ]
}