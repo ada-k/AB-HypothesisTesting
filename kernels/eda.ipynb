{
 "cells": [
  {
   "cell_type": "markdown",
   "metadata": {
    "colab_type": "text",
    "id": "DJNfLqP6Zlt6"
   },
   "source": [
    "## Exploratory Data Analysis\n",
    "This kernel summarizes the main characteristics of the variables in our data.\n",
    "\n",
    "## Data\n",
    "The BIO data for this project is a “Yes” and “No” response of online users to the following question:\n",
    "\n",
    "\n",
    "`Q: Do you know the brand SmartAd?`\n",
    "\n",
    "      Yes\n",
    "      No\n",
    "\n",
    "The data has the following columns:\n",
    "  * **auction_id**: the unique id of the online user who has been presented the BIO. \n",
    "  * **experiment**: which group the user belongs to - control or exposed.\n",
    "  * **date**: the date in YYYY-MM-DD format\n",
    "  * **hour**: the hour of the day in HH format.\n",
    "  * **device_make**: the name of the type of device the user has e.g. Samsung\n",
    "  * **platform_os**: the id of the OS the user has. \n",
    "  * **browser**: the name of the browser the user uses to see the BIO questionnaire.\n",
    "  * **yes**: 1 if the user chooses the “Yes” radio button for the BIO questionnaire.\n",
    "  * **no**: 1 if the user chooses the “No” radio button for the BIO questionnaire."
   ]
  },
  {
   "cell_type": "markdown",
   "metadata": {
    "colab_type": "text",
    "id": "ejy1G3LgGLpQ"
   },
   "source": [
    "## Table of Contents\n",
    "1. [Libraries](#Libraries)\n",
    "2. [Dataset](#Data-Reading)\n",
    "3. [Variables and DataTypes](#Variables-and-their-data-types.)\n",
    "4. [Univariate Analysis](#Univariate-analysis)\n",
    "\n",
    "    4.1 [Non-Graphical](#Non-Graphical)\n",
    "\n",
    "    4.2 [Graphical](#Graphical-Univariate-Analysis)\n",
    "\n",
    "5. [Multivariate Analysis](#Multivariate-analysis)\n",
    "\n",
    "    5.1 [Correlation](#Correlation)\n",
    "\n",
    "    5.2 [Bivariate Analysis](#Pair-Plots-(Bivariate-Analysis))"
   ]
  },
  {
   "cell_type": "markdown",
   "metadata": {
    "colab_type": "text",
    "id": "EHcWtmWCZllU"
   },
   "source": [
    "## 1. Libraries"
   ]
  },
  {
   "cell_type": "code",
   "execution_count": 4,
   "metadata": {
    "colab": {},
    "colab_type": "code",
    "id": "3Pa34PDIKLBI"
   },
   "outputs": [],
   "source": [
    "# linear algebra and data processing\n",
    "import numpy as np\n",
    "import pandas as pd\n",
    "\n",
    "# plotting libraries\n",
    "import seaborn as sns\n",
    "import matplotlib.pyplot as plt\n",
    "\n",
    "# math and statistics libraries\n",
    "from scipy import stats\n",
    "from scipy.stats import skew, norm\n",
    "import math\n",
    "\n",
    "# others\n",
    "import datetime\n",
    "\n",
    "# column transformer\n",
    "from sklearn.preprocessing import OneHotEncoder, LabelEncoder\n",
    "\n",
    "# google authentication\n",
    "from pydrive.auth import GoogleAuth\n",
    "from pydrive.drive import GoogleDrive\n",
    "from google.colab import auth\n",
    "from oauth2client.client import GoogleCredentials\n",
    "\n",
    "# ignore  warnings\n",
    "import warnings\n",
    "def ignore_warn(*args, **kwargs):\n",
    "    pass\n",
    "warnings.warn = ignore_warn "
   ]
  },
  {
   "cell_type": "markdown",
   "metadata": {
    "colab_type": "text",
    "id": "6kl0ssnsdmnk"
   },
   "source": [
    "## 2. Data Reading"
   ]
  },
  {
   "cell_type": "code",
   "execution_count": 5,
   "metadata": {
    "colab": {},
    "colab_type": "code",
    "id": "04Ehr1OWdpCA"
   },
   "outputs": [],
   "source": [
    "# function to fetch data\n",
    "def fetch_data(id, file_name):\n",
    "  auth.authenticate_user()\n",
    "  gauth = GoogleAuth()\n",
    "  gauth.credentials = GoogleCredentials.get_application_default()\n",
    "  drive = GoogleDrive(gauth)\n",
    "\n",
    "  downloaded = drive.CreateFile({'id':id}) \n",
    "  downloaded.GetContentFile(file_name)\n",
    "\n",
    "  data=pd.read_csv(file_name)\n",
    "  return data"
   ]
  },
  {
   "cell_type": "code",
   "execution_count": 8,
   "metadata": {
    "colab": {
     "base_uri": "https://localhost:8080/",
     "height": 206
    },
    "colab_type": "code",
    "id": "qldE7xHiKYjq",
    "outputId": "106f8cda-1ac2-4635-d0d0-c8c4af92e223"
   },
   "outputs": [
    {
     "data": {
      "text/html": [
       "<div>\n",
       "<style scoped>\n",
       "    .dataframe tbody tr th:only-of-type {\n",
       "        vertical-align: middle;\n",
       "    }\n",
       "\n",
       "    .dataframe tbody tr th {\n",
       "        vertical-align: top;\n",
       "    }\n",
       "\n",
       "    .dataframe thead th {\n",
       "        text-align: right;\n",
       "    }\n",
       "</style>\n",
       "<table border=\"1\" class=\"dataframe\">\n",
       "  <thead>\n",
       "    <tr style=\"text-align: right;\">\n",
       "      <th></th>\n",
       "      <th>auction_id</th>\n",
       "      <th>experiment</th>\n",
       "      <th>date</th>\n",
       "      <th>hour</th>\n",
       "      <th>device_make</th>\n",
       "      <th>platform_os</th>\n",
       "      <th>browser</th>\n",
       "      <th>yes</th>\n",
       "      <th>no</th>\n",
       "    </tr>\n",
       "  </thead>\n",
       "  <tbody>\n",
       "    <tr>\n",
       "      <th>0</th>\n",
       "      <td>0008ef63-77a7-448b-bd1e-075f42c55e39</td>\n",
       "      <td>exposed</td>\n",
       "      <td>2020-07-10</td>\n",
       "      <td>8</td>\n",
       "      <td>Generic Smartphone</td>\n",
       "      <td>6</td>\n",
       "      <td>Chrome Mobile</td>\n",
       "      <td>0</td>\n",
       "      <td>0</td>\n",
       "    </tr>\n",
       "    <tr>\n",
       "      <th>1</th>\n",
       "      <td>000eabc5-17ce-4137-8efe-44734d914446</td>\n",
       "      <td>exposed</td>\n",
       "      <td>2020-07-07</td>\n",
       "      <td>10</td>\n",
       "      <td>Generic Smartphone</td>\n",
       "      <td>6</td>\n",
       "      <td>Chrome Mobile</td>\n",
       "      <td>0</td>\n",
       "      <td>0</td>\n",
       "    </tr>\n",
       "    <tr>\n",
       "      <th>2</th>\n",
       "      <td>0016d14a-ae18-4a02-a204-6ba53b52f2ed</td>\n",
       "      <td>exposed</td>\n",
       "      <td>2020-07-05</td>\n",
       "      <td>2</td>\n",
       "      <td>E5823</td>\n",
       "      <td>6</td>\n",
       "      <td>Chrome Mobile WebView</td>\n",
       "      <td>0</td>\n",
       "      <td>1</td>\n",
       "    </tr>\n",
       "    <tr>\n",
       "      <th>3</th>\n",
       "      <td>00187412-2932-4542-a8ef-3633901c98d9</td>\n",
       "      <td>control</td>\n",
       "      <td>2020-07-03</td>\n",
       "      <td>15</td>\n",
       "      <td>Samsung SM-A705FN</td>\n",
       "      <td>6</td>\n",
       "      <td>Facebook</td>\n",
       "      <td>0</td>\n",
       "      <td>0</td>\n",
       "    </tr>\n",
       "    <tr>\n",
       "      <th>4</th>\n",
       "      <td>001a7785-d3fe-4e11-a344-c8735acacc2c</td>\n",
       "      <td>control</td>\n",
       "      <td>2020-07-03</td>\n",
       "      <td>15</td>\n",
       "      <td>Generic Smartphone</td>\n",
       "      <td>6</td>\n",
       "      <td>Chrome Mobile</td>\n",
       "      <td>0</td>\n",
       "      <td>0</td>\n",
       "    </tr>\n",
       "  </tbody>\n",
       "</table>\n",
       "</div>"
      ],
      "text/plain": [
       "                             auction_id experiment  ... yes  no\n",
       "0  0008ef63-77a7-448b-bd1e-075f42c55e39    exposed  ...   0   0\n",
       "1  000eabc5-17ce-4137-8efe-44734d914446    exposed  ...   0   0\n",
       "2  0016d14a-ae18-4a02-a204-6ba53b52f2ed    exposed  ...   0   1\n",
       "3  00187412-2932-4542-a8ef-3633901c98d9    control  ...   0   0\n",
       "4  001a7785-d3fe-4e11-a344-c8735acacc2c    control  ...   0   0\n",
       "\n",
       "[5 rows x 9 columns]"
      ]
     },
     "execution_count": 8,
     "metadata": {
      "tags": []
     },
     "output_type": "execute_result"
    }
   ],
   "source": [
    "# fetch the data\n",
    "data = fetch_data('1YSn01vvlHKQaAIBtwIXRNd-oTaTuDN09', 'ABAdRecall.csv')\n",
    "data.head()"
   ]
  },
  {
   "cell_type": "code",
   "execution_count": 9,
   "metadata": {
    "colab": {
     "base_uri": "https://localhost:8080/",
     "height": 34
    },
    "colab_type": "code",
    "id": "m8NJ2VyPYCzz",
    "outputId": "e6307eb7-8dbd-4bf8-8c1b-cb8c6f9d629c"
   },
   "outputs": [
    {
     "name": "stdout",
     "output_type": "stream",
     "text": [
      "the size of the dataset is:  8077 rows and 9 columns\n"
     ]
    }
   ],
   "source": [
    "# the shape of our data\n",
    "print('the size of the dataset is: ', data.shape[0], 'rows and', data.shape[1], 'columns')"
   ]
  },
  {
   "cell_type": "markdown",
   "metadata": {
    "colab_type": "text",
    "id": "FgMzdVGoVBGx"
   },
   "source": [
    "## 3. Variables and their data types."
   ]
  },
  {
   "cell_type": "code",
   "execution_count": 10,
   "metadata": {
    "colab": {
     "base_uri": "https://localhost:8080/",
     "height": 191
    },
    "colab_type": "code",
    "id": "uXeI5s_bU67B",
    "outputId": "67ba9b7f-1640-4018-8f0d-bd1023dbd8e1"
   },
   "outputs": [
    {
     "data": {
      "text/plain": [
       "auction_id     object\n",
       "experiment     object\n",
       "date           object\n",
       "device_make    object\n",
       "browser        object\n",
       "hour            int64\n",
       "platform_os     int64\n",
       "yes             int64\n",
       "no              int64\n",
       "dtype: object"
      ]
     },
     "execution_count": 10,
     "metadata": {
      "tags": []
     },
     "output_type": "execute_result"
    }
   ],
   "source": [
    "# segment the features into 2 categories: categorical and numerical features\n",
    "categorical = []\n",
    "numerical = []\n",
    "for col in data.columns:\n",
    "  if data[col].dtype == object:\n",
    "    categorical.append(col)\n",
    "  elif data[col].dtype in ['int16', 'int32', 'int64', 'float16', 'float32', 'float64']:\n",
    "    numerical.append(col)\n",
    "\n",
    "# check the data types\n",
    "features = categorical + numerical \n",
    "data = data[features]\n",
    "data.dtypes"
   ]
  },
  {
   "cell_type": "markdown",
   "metadata": {
    "colab_type": "text",
    "id": "OqC7X03nV2mO"
   },
   "source": [
    "There are 4 numerical features. All of them are discrete in nature. 3 of them represent categorical features: **platform_os** holds numerical values for different os types, **yes** and **no** cols holds numerical values for a yes/no questionnaire. \n",
    "\n",
    "\n",
    "There are 4 categorical features. All 4 of them are nominal. **auction_id** is a unique identifier for every user, **experiment** splits the users into 2 groups (*control* and *exposed*), **device_make** and **browser** indicate different devices and browser types. \n",
    "\n",
    "\n",
    "**date** is classified as categorical but its a timestamp feature indicating the time a particular user responds to the questionnaire."
   ]
  },
  {
   "cell_type": "code",
   "execution_count": 11,
   "metadata": {
    "colab": {},
    "colab_type": "code",
    "id": "muqnYx70bVS2"
   },
   "outputs": [],
   "source": [
    "# change the date col to a timestamp feature\n",
    "data.date = pd.to_datetime(data[\"date\"]) "
   ]
  },
  {
   "cell_type": "markdown",
   "metadata": {
    "colab_type": "text",
    "id": "lawKaizeVtgQ"
   },
   "source": [
    "## 4. Univariate analysis\n",
    "This involves analysis of variables independently.\n",
    "\n",
    "\n"
   ]
  },
  {
   "cell_type": "markdown",
   "metadata": {
    "colab_type": "text",
    "id": "_WBnJUNxfGQY"
   },
   "source": [
    "#### 4.1 Non-Graphical\n",
    "Univariate analysis without the use of graphs."
   ]
  },
  {
   "cell_type": "code",
   "execution_count": 12,
   "metadata": {
    "colab": {
     "base_uri": "https://localhost:8080/",
     "height": 300
    },
    "colab_type": "code",
    "id": "NweeNkBPVwEA",
    "outputId": "29973a1b-e13a-4626-b84d-3525271ad173"
   },
   "outputs": [
    {
     "data": {
      "text/html": [
       "<div>\n",
       "<style scoped>\n",
       "    .dataframe tbody tr th:only-of-type {\n",
       "        vertical-align: middle;\n",
       "    }\n",
       "\n",
       "    .dataframe tbody tr th {\n",
       "        vertical-align: top;\n",
       "    }\n",
       "\n",
       "    .dataframe thead th {\n",
       "        text-align: right;\n",
       "    }\n",
       "</style>\n",
       "<table border=\"1\" class=\"dataframe\">\n",
       "  <thead>\n",
       "    <tr style=\"text-align: right;\">\n",
       "      <th></th>\n",
       "      <th>hour</th>\n",
       "      <th>platform_os</th>\n",
       "      <th>yes</th>\n",
       "      <th>no</th>\n",
       "    </tr>\n",
       "  </thead>\n",
       "  <tbody>\n",
       "    <tr>\n",
       "      <th>count</th>\n",
       "      <td>8077.000000</td>\n",
       "      <td>8077.000000</td>\n",
       "      <td>8077.000000</td>\n",
       "      <td>8077.000000</td>\n",
       "    </tr>\n",
       "    <tr>\n",
       "      <th>mean</th>\n",
       "      <td>11.615080</td>\n",
       "      <td>5.947134</td>\n",
       "      <td>0.070818</td>\n",
       "      <td>0.083075</td>\n",
       "    </tr>\n",
       "    <tr>\n",
       "      <th>std</th>\n",
       "      <td>5.734879</td>\n",
       "      <td>0.224333</td>\n",
       "      <td>0.256537</td>\n",
       "      <td>0.276013</td>\n",
       "    </tr>\n",
       "    <tr>\n",
       "      <th>min</th>\n",
       "      <td>0.000000</td>\n",
       "      <td>5.000000</td>\n",
       "      <td>0.000000</td>\n",
       "      <td>0.000000</td>\n",
       "    </tr>\n",
       "    <tr>\n",
       "      <th>25%</th>\n",
       "      <td>7.000000</td>\n",
       "      <td>6.000000</td>\n",
       "      <td>0.000000</td>\n",
       "      <td>0.000000</td>\n",
       "    </tr>\n",
       "    <tr>\n",
       "      <th>50%</th>\n",
       "      <td>13.000000</td>\n",
       "      <td>6.000000</td>\n",
       "      <td>0.000000</td>\n",
       "      <td>0.000000</td>\n",
       "    </tr>\n",
       "    <tr>\n",
       "      <th>75%</th>\n",
       "      <td>15.000000</td>\n",
       "      <td>6.000000</td>\n",
       "      <td>0.000000</td>\n",
       "      <td>0.000000</td>\n",
       "    </tr>\n",
       "    <tr>\n",
       "      <th>max</th>\n",
       "      <td>23.000000</td>\n",
       "      <td>7.000000</td>\n",
       "      <td>1.000000</td>\n",
       "      <td>1.000000</td>\n",
       "    </tr>\n",
       "  </tbody>\n",
       "</table>\n",
       "</div>"
      ],
      "text/plain": [
       "              hour  platform_os          yes           no\n",
       "count  8077.000000  8077.000000  8077.000000  8077.000000\n",
       "mean     11.615080     5.947134     0.070818     0.083075\n",
       "std       5.734879     0.224333     0.256537     0.276013\n",
       "min       0.000000     5.000000     0.000000     0.000000\n",
       "25%       7.000000     6.000000     0.000000     0.000000\n",
       "50%      13.000000     6.000000     0.000000     0.000000\n",
       "75%      15.000000     6.000000     0.000000     0.000000\n",
       "max      23.000000     7.000000     1.000000     1.000000"
      ]
     },
     "execution_count": 12,
     "metadata": {
      "tags": []
     },
     "output_type": "execute_result"
    }
   ],
   "source": [
    "# measures of spread and central tendency of numerical features\n",
    "data.describe()"
   ]
  },
  {
   "cell_type": "markdown",
   "metadata": {
    "colab_type": "text",
    "id": "Jj8SWbJZgFyn"
   },
   "source": [
    "**count**:  This is the total  number of instances of a particular variable. (Its a shortcut to sporting out the features with null values).\n",
    "\n",
    "**mean**: The average value of all the entries in a particular feature.\n",
    "\n",
    "**std**: This is the standard devistion - measure of variation of values in a particular feature.\n",
    "\n",
    "**25%**: Lower median value of the feature.\n",
    "\n",
    "**75%**: Median value of the feature.\n",
    "\n",
    "**75%**: Upper median value of the feature.\n",
    "\n",
    "**min**: Minimum value recorded of the feature.\n",
    "\n",
    "**max**: Maximum value recorde of the feature.\n",
    "\n",
    "\n",
    "The measure vary across the features since each feature is representative of its own thing. Similarities across the *yes/no* columns is because they both represent feedbacks to the *BIO* question."
   ]
  },
  {
   "cell_type": "code",
   "execution_count": 13,
   "metadata": {
    "colab": {
     "base_uri": "https://localhost:8080/",
     "height": 173
    },
    "colab_type": "code",
    "id": "tL1QC76WYWE5",
    "outputId": "fc966b16-cc2d-4f93-f5f8-dc54a6225909"
   },
   "outputs": [
    {
     "name": "stdout",
     "output_type": "stream",
     "text": [
      "auction_id - 8077\n",
      "experiment - 2\n",
      "date - 8\n",
      "device_make - 270\n",
      "browser - 15\n",
      "hour - 24\n",
      "platform_os - 3\n",
      "yes - 2\n",
      "no - 2\n"
     ]
    }
   ],
   "source": [
    "# number of unique entries across all features\n",
    "for col in data.columns:\n",
    "  print(col, '-', data[col].nunique())"
   ]
  },
  {
   "cell_type": "markdown",
   "metadata": {
    "colab_type": "text",
    "id": "IYg5lmIXYjA4"
   },
   "source": [
    "**auction_id** has unique counts equal to the number of rows in the dataset. This is because each entry represents one user.\n",
    "\n",
    "**Experiment** represents only 2 groups: *control* and *exposed*.\n",
    "\n",
    "**date** has 8 unique values since data is recorded from *3 July* to *10 July*, a total of 8 days.\n",
    "\n",
    "**device_make**, **platform_os** and **browser** have varying values. Device types are bound to be more than browser and os types (there are many device types compare to os and browser types) hence the big number under device_types. \n",
    "\n",
    "**hour** has 24 unique values indicating the 24 hrs in a day.\n",
    "\n",
    "the **yes** and **no** cols have 2 unique values: 0 and 1.\n",
    "\n"
   ]
  },
  {
   "cell_type": "code",
   "execution_count": 14,
   "metadata": {
    "colab": {
     "base_uri": "https://localhost:8080/",
     "height": 225
    },
    "colab_type": "code",
    "id": "SN3R25M0ZuqO",
    "outputId": "98257a3a-073d-4a49-ee2c-edc8dff76b11"
   },
   "outputs": [
    {
     "name": "stdout",
     "output_type": "stream",
     "text": [
      "yes : \n",
      " 0    7505\n",
      "1     572\n",
      "Name: yes, dtype: int64\n",
      "no : \n",
      " 0    7406\n",
      "1     671\n",
      "Name: no, dtype: int64\n",
      "experiment : \n",
      " control    4071\n",
      "exposed    4006\n",
      "Name: experiment, dtype: int64\n"
     ]
    }
   ],
   "source": [
    "# value counts for experiment, yes and no columns\n",
    "for col  in ['yes', 'no', 'experiment']:\n",
    "  print(col, ': \\n',data[col].value_counts())"
   ]
  },
  {
   "cell_type": "markdown",
   "metadata": {
    "colab_type": "text",
    "id": "_KQioecgadf4"
   },
   "source": [
    "The 1s in yes and no indicates guys that responded to the questionnaire (15% of the total population).\n",
    "\n",
    "The 1s in yes indicates guys that recall the SmartAd ad. The number is relatively low. The 1s in no indicate guys that don't recall the ad. The number is higher than the guys that recall.\n",
    "\n",
    "The number of users in the control and exposed groups appear to be 'balanced'.\n",
    "\n"
   ]
  },
  {
   "cell_type": "markdown",
   "metadata": {
    "colab_type": "text",
    "id": "ln2zPL7ebP9c"
   },
   "source": [
    "#### 4.2 Graphical Univariate Anlysis"
   ]
  },
  {
   "cell_type": "markdown",
   "metadata": {
    "colab_type": "text",
    "id": "NB7FBImsu_IH"
   },
   "source": [
    "##### 4.2.1 Distributions\n",
    "A probability distribution is the mathematical function that gives the probabilities of occurrence of different possible outcomes for an experiment. "
   ]
  },
  {
   "cell_type": "code",
   "execution_count": 15,
   "metadata": {
    "colab": {
     "base_uri": "https://localhost:8080/",
     "height": 421
    },
    "colab_type": "code",
    "id": "U5dmk6RZby-3",
    "outputId": "42ca28dc-14d6-4a09-8414-c764da383c84"
   },
   "outputs": [
    {
     "data": {
      "text/plain": [
       "[Text(0.5, 1.0, 'hour distribution')]"
      ]
     },
     "execution_count": 15,
     "metadata": {
      "tags": []
     },
     "output_type": "execute_result"
    },
    {
     "data": {
      "image/png": "[encoded data removed]",
      "text/plain": [
       "<Figure size 504x432 with 1 Axes>"
      ]
     },
     "metadata": {
      "needs_background": "light",
      "tags": []
     },
     "output_type": "display_data"
    }
   ],
   "source": [
    "# hour distribution\n",
    "f, ax = plt.subplots(figsize=(7, 6))\n",
    "sns.distplot(data['hour'], bins = 20, color = 'Magenta')\n",
    "ax.set(ylabel=\"Frequency\")\n",
    "ax.set(xlabel=\"hour\")\n",
    "ax.set(title=\"hour distribution\")"
   ]
  },
  {
   "cell_type": "markdown",
   "metadata": {
    "colab_type": "text",
    "id": "xeZCGx-S2GQD"
   },
   "source": [
    "The variable is somewhat uniformly distributed but the 1st, 8th and 15th hours have shooting frequencies."
   ]
  },
  {
   "cell_type": "code",
   "execution_count": 16,
   "metadata": {
    "colab": {
     "base_uri": "https://localhost:8080/",
     "height": 421
    },
    "colab_type": "code",
    "id": "0BgHmP3OcFzQ",
    "outputId": "b8d7e21a-f78b-4e09-d705-55cfbfd962cf"
   },
   "outputs": [
    {
     "data": {
      "text/plain": [
       "[Text(0.5, 1.0, 'yes distribution')]"
      ]
     },
     "execution_count": 16,
     "metadata": {
      "tags": []
     },
     "output_type": "execute_result"
    },
    {
     "data": {
      "image/png": "[encoded data removed]",
      "text/plain": [
       "<Figure size 504x432 with 1 Axes>"
      ]
     },
     "metadata": {
      "needs_background": "light",
      "tags": []
     },
     "output_type": "display_data"
    }
   ],
   "source": [
    "# yes distribution\n",
    "f, ax = plt.subplots(figsize=(7, 6))\n",
    "sns.distplot(data['yes'], bins = 20, color = 'black')\n",
    "ax.set(ylabel=\"Frequency\")\n",
    "ax.set(xlabel=\"yes\")\n",
    "ax.set(title=\"yes distribution\")"
   ]
  },
  {
   "cell_type": "markdown",
   "metadata": {
    "colab_type": "text",
    "id": "CwBlZmjv15hn"
   },
   "source": [
    "The variable only has 2 values: 0 and 1.(Discrete Probability distribution)"
   ]
  },
  {
   "cell_type": "code",
   "execution_count": 17,
   "metadata": {
    "colab": {
     "base_uri": "https://localhost:8080/",
     "height": 421
    },
    "colab_type": "code",
    "id": "vZK6Mkq1cGjb",
    "outputId": "4e366557-ae04-4654-e94c-4dc816c69093"
   },
   "outputs": [
    {
     "data": {
      "text/plain": [
       "[Text(0.5, 1.0, 'no distribution')]"
      ]
     },
     "execution_count": 17,
     "metadata": {
      "tags": []
     },
     "output_type": "execute_result"
    },
    {
     "data": {
      "image/png": "[encoded data removed]",
      "text/plain": [
       "<Figure size 504x432 with 1 Axes>"
      ]
     },
     "metadata": {
      "needs_background": "light",
      "tags": []
     },
     "output_type": "display_data"
    }
   ],
   "source": [
    "# no distribution\n",
    "f, ax = plt.subplots(figsize=(7, 6))\n",
    "sns.distplot(data['no'], bins = 20, color = 'green')\n",
    "ax.set(ylabel=\"Frequency\")\n",
    "ax.set(xlabel=\"no\")\n",
    "ax.set(title=\"no distribution\")"
   ]
  },
  {
   "cell_type": "markdown",
   "metadata": {
    "colab_type": "text",
    "id": "HzMlvP4j10rC"
   },
   "source": [
    "The variable only has 2 values: 0 and 1.\n",
    "(Discrete Probability distribution)"
   ]
  },
  {
   "cell_type": "code",
   "execution_count": 18,
   "metadata": {
    "colab": {
     "base_uri": "https://localhost:8080/",
     "height": 422
    },
    "colab_type": "code",
    "id": "n8924GqtcMzU",
    "outputId": "677643cf-2a8f-4238-bc27-2ed5461ebefd"
   },
   "outputs": [
    {
     "data": {
      "text/plain": [
       "[Text(0.5, 1.0, 'platform_os distribution')]"
      ]
     },
     "execution_count": 18,
     "metadata": {
      "tags": []
     },
     "output_type": "execute_result"
    },
    {
     "data": {
      "image/png": "[encoded data removed]",
      "text/plain": [
       "<Figure size 504x432 with 1 Axes>"
      ]
     },
     "metadata": {
      "needs_background": "light",
      "tags": []
     },
     "output_type": "display_data"
    }
   ],
   "source": [
    "# platform_os distribution\n",
    "f, ax = plt.subplots(figsize=(7, 6))\n",
    "sns.distplot(data['platform_os'], bins = 20, color = 'blue')\n",
    "ax.set(ylabel=\"Frequency\")\n",
    "ax.set(xlabel=\"platform_os\")\n",
    "ax.set(title=\"platform_os distribution\")"
   ]
  },
  {
   "cell_type": "markdown",
   "metadata": {
    "colab_type": "text",
    "id": "n6-PqEhf1-6b"
   },
   "source": [
    "6 is the mode of the distribution. (Discrete Probability distribution)"
   ]
  },
  {
   "cell_type": "markdown",
   "metadata": {
    "colab_type": "text",
    "id": "N_PLmIBtcvaW"
   },
   "source": [
    "##### 4.2.2 Count plots\n",
    "\n",
    "They indicate unique value counts in a variable."
   ]
  },
  {
   "cell_type": "code",
   "execution_count": 19,
   "metadata": {
    "colab": {
     "base_uri": "https://localhost:8080/",
     "height": 312
    },
    "colab_type": "code",
    "id": "J2M3Oj9acx0R",
    "outputId": "1eecddcd-d7fa-40a8-b39f-e86777b38677"
   },
   "outputs": [
    {
     "data": {
      "text/plain": [
       "Text(0.5, 1.0, 'a countplot indicating unique value counts of the yes column')"
      ]
     },
     "execution_count": 19,
     "metadata": {
      "tags": []
     },
     "output_type": "execute_result"
    },
    {
     "data": {
      "image/png": "[encoded data removed]",
      "text/plain": [
       "<Figure size 432x288 with 1 Axes>"
      ]
     },
     "metadata": {
      "needs_background": "light",
      "tags": []
     },
     "output_type": "display_data"
    }
   ],
   "source": [
    "# yes\n",
    "sns.countplot(data['yes'])\n",
    "plt.title('a countplot indicating unique value counts of the yes column')"
   ]
  },
  {
   "cell_type": "markdown",
   "metadata": {
    "colab_type": "text",
    "id": "EK85PEJd1nI8"
   },
   "source": [
    "The 0 col has a higher count cause it represents users who either answered no or didn't respond to the questionnaire."
   ]
  },
  {
   "cell_type": "code",
   "execution_count": 20,
   "metadata": {
    "colab": {
     "base_uri": "https://localhost:8080/",
     "height": 312
    },
    "colab_type": "code",
    "id": "knINgOVycyBB",
    "outputId": "57d8be12-a6bf-480f-908c-d04f6ae0534f"
   },
   "outputs": [
    {
     "data": {
      "text/plain": [
       "Text(0.5, 1.0, 'a countplot indicating unique value counts of the no column')"
      ]
     },
     "execution_count": 20,
     "metadata": {
      "tags": []
     },
     "output_type": "execute_result"
    },
    {
     "data": {
      "image/png": "[encoded data removed]",
      "text/plain": [
       "<Figure size 432x288 with 1 Axes>"
      ]
     },
     "metadata": {
      "needs_background": "light",
      "tags": []
     },
     "output_type": "display_data"
    }
   ],
   "source": [
    "# no\n",
    "sns.countplot(data['no'])\n",
    "plt.title('a countplot indicating unique value counts of the no column')"
   ]
  },
  {
   "cell_type": "markdown",
   "metadata": {
    "colab_type": "text",
    "id": "6YISnjZP1Xb1"
   },
   "source": [
    "Like in the yes col, the 0 response has a higher count cause it represents users who either answered yes or didn't respond to the questionnaire.\n"
   ]
  },
  {
   "cell_type": "code",
   "execution_count": 21,
   "metadata": {
    "colab": {
     "base_uri": "https://localhost:8080/",
     "height": 312
    },
    "colab_type": "code",
    "id": "s273qxVEcyL9",
    "outputId": "913ccb9e-77ff-4c08-97cf-d30f862ddd17"
   },
   "outputs": [
    {
     "data": {
      "text/plain": [
       "Text(0.5, 1.0, 'a countplot indicating unique value counts of the experiment column')"
      ]
     },
     "execution_count": 21,
     "metadata": {
      "tags": []
     },
     "output_type": "execute_result"
    },
    {
     "data": {
      "image/png": "[encoded data removed]",
      "text/plain": [
       "<Figure size 432x288 with 1 Axes>"
      ]
     },
     "metadata": {
      "needs_background": "light",
      "tags": []
     },
     "output_type": "display_data"
    }
   ],
   "source": [
    "# experiment\n",
    "sns.countplot(data['experiment'])\n",
    "plt.title('a countplot indicating unique value counts of the experiment column')"
   ]
  },
  {
   "cell_type": "markdown",
   "metadata": {
    "colab_type": "text",
    "id": "-ewmvv0Y1SNR"
   },
   "source": [
    "Number of users in the groups are balanced as it should be."
   ]
  },
  {
   "cell_type": "code",
   "execution_count": 22,
   "metadata": {
    "colab": {
     "base_uri": "https://localhost:8080/",
     "height": 313
    },
    "colab_type": "code",
    "id": "riSIhlHNcyYQ",
    "outputId": "3bc489be-b6fc-4570-82a5-2f2cdd8ccefb"
   },
   "outputs": [
    {
     "data": {
      "text/plain": [
       "Text(0.5, 1.0, 'a countplot indicating unique value counts of the platform_os column')"
      ]
     },
     "execution_count": 22,
     "metadata": {
      "tags": []
     },
     "output_type": "execute_result"
    },
    {
     "data": {
      "image/png": "[encoded data removed]",
      "text/plain": [
       "<Figure size 432x288 with 1 Axes>"
      ]
     },
     "metadata": {
      "needs_background": "light",
      "tags": []
     },
     "output_type": "display_data"
    }
   ],
   "source": [
    "# platform_os\n",
    "sns.countplot(data['platform_os'])\n",
    "plt.title('a countplot indicating unique value counts of the platform_os column')"
   ]
  },
  {
   "cell_type": "markdown",
   "metadata": {
    "colab_type": "text",
    "id": "kbC1PSRg1BRw"
   },
   "source": [
    "Whatever 6 os is representative of, its the most common os used. Probably android, or ios or windows. "
   ]
  },
  {
   "cell_type": "code",
   "execution_count": 23,
   "metadata": {
    "colab": {
     "base_uri": "https://localhost:8080/",
     "height": 423
    },
    "colab_type": "code",
    "id": "SYOSwY28dUKs",
    "outputId": "e4c27a72-017d-48c4-ad7e-ade00a54482d"
   },
   "outputs": [
    {
     "data": {
      "text/plain": [
       "(array([0, 1, 2, 3, 4]), <a list of 5 Text major ticklabel objects>)"
      ]
     },
     "execution_count": 23,
     "metadata": {
      "tags": []
     },
     "output_type": "execute_result"
    },
    {
     "data": {
      "image/png": "[encoded data removed]",
      "text/plain": [
       "<Figure size 432x360 with 1 Axes>"
      ]
     },
     "metadata": {
      "needs_background": "light",
      "tags": []
     },
     "output_type": "display_data"
    }
   ],
   "source": [
    "# device_make (top 10 most popular)\n",
    "a = data.device_make.value_counts(ascending=False).head(5)\n",
    "a = pd.DataFrame(a)\n",
    "plt.figure(figsize = (6,5))\n",
    "sns.barplot(x = a.index, y = a.device_make)\n",
    "plt.title('a plot indicating value counts of the most popular device makes')\n",
    "plt.xticks(rotation = 45)"
   ]
  },
  {
   "cell_type": "markdown",
   "metadata": {
    "colab_type": "text",
    "id": "Ja2FYvDPek2g"
   },
   "source": [
    "Who's this generic guy.  ?? \n",
    "\n",
    "Samsung taking 60% of the top 5, impressive."
   ]
  },
  {
   "cell_type": "code",
   "execution_count": 24,
   "metadata": {
    "colab": {
     "base_uri": "https://localhost:8080/",
     "height": 755
    },
    "colab_type": "code",
    "id": "BFUGKHJ4dUO3",
    "outputId": "b0a6f18a-8ceb-4805-cdcc-67ffd69f71a5"
   },
   "outputs": [
    {
     "data": {
      "text/plain": [
       "(array([ 0,  1,  2,  3,  4,  5,  6,  7,  8,  9, 10, 11, 12, 13, 14]),\n",
       " <a list of 15 Text major ticklabel objects>)"
      ]
     },
     "execution_count": 24,
     "metadata": {
      "tags": []
     },
     "output_type": "execute_result"
    },
    {
     "data": {
      "image/png": "[encoded data removed]",
      "text/plain": [
       "<Figure size 864x720 with 1 Axes>"
      ]
     },
     "metadata": {
      "needs_background": "light",
      "tags": []
     },
     "output_type": "display_data"
    }
   ],
   "source": [
    "# browser\n",
    "plt.figure(figsize = (12,10))\n",
    "sns.countplot(data['browser'])\n",
    "plt.title('a countplot indicating unique value counts of the browser column')\n",
    "plt.xticks(rotation = 45)"
   ]
  },
  {
   "cell_type": "markdown",
   "metadata": {
    "colab_type": "text",
    "id": "0rXSIZRW0V18"
   },
   "source": [
    "Chrome(mobile, web and ios) and Facebook are the most popular browsers used."
   ]
  },
  {
   "cell_type": "code",
   "execution_count": 25,
   "metadata": {
    "colab": {
     "base_uri": "https://localhost:8080/",
     "height": 680
    },
    "colab_type": "code",
    "id": "dMXL79aUdUSL",
    "outputId": "cd81ac89-eeea-483d-a4ac-1a044113b5de"
   },
   "outputs": [
    {
     "data": {
      "text/plain": [
       "(array([ 0,  1,  2,  3,  4,  5,  6,  7,  8,  9, 10, 11, 12, 13, 14, 15, 16,\n",
       "        17, 18, 19, 20, 21, 22, 23]),\n",
       " <a list of 24 Text major ticklabel objects>)"
      ]
     },
     "execution_count": 25,
     "metadata": {
      "tags": []
     },
     "output_type": "execute_result"
    },
    {
     "data": {
      "image/png": "[encoded data removed]",
      "text/plain": [
       "<Figure size 864x720 with 1 Axes>"
      ]
     },
     "metadata": {
      "needs_background": "light",
      "tags": []
     },
     "output_type": "display_data"
    }
   ],
   "source": [
    "# hour\n",
    "plt.figure(figsize = (12,10))\n",
    "sns.countplot(data['hour'])\n",
    "plt.title('a countplot indicating unique value counts of the hour column')\n",
    "plt.xticks(rotation = 45)"
   ]
  },
  {
   "cell_type": "markdown",
   "metadata": {
    "colab_type": "text",
    "id": "Z9q5buCP0NR4"
   },
   "source": [
    "The 15th hour has the highest number of users. "
   ]
  },
  {
   "cell_type": "markdown",
   "metadata": {
    "colab_type": "text",
    "id": "yd95LnHvjLsG"
   },
   "source": [
    "## 5. Multivariate analysis\n",
    "\n",
    "Involves observation and analysis of more than one statistical outcome variable at a time."
   ]
  },
  {
   "cell_type": "markdown",
   "metadata": {
    "colab_type": "text",
    "id": "Px6gX5i9e45Q"
   },
   "source": [
    "### 5.1 Correlation\n"
   ]
  },
  {
   "cell_type": "code",
   "execution_count": 26,
   "metadata": {
    "colab": {
     "base_uri": "https://localhost:8080/",
     "height": 408
    },
    "colab_type": "code",
    "id": "x-_kJB3qfAjz",
    "outputId": "2027a38c-1a6e-4e03-b947-91eac9398832"
   },
   "outputs": [
    {
     "data": {
      "text/plain": [
       "Text(0.5, 1.0, 'a heatmap indicating correlation between the variables')"
      ]
     },
     "execution_count": 26,
     "metadata": {
      "tags": []
     },
     "output_type": "execute_result"
    },
    {
     "data": {
      "image/png": "[encoded data removed]",
      "text/plain": [
       "<Figure size 576x432 with 2 Axes>"
      ]
     },
     "metadata": {
      "needs_background": "light",
      "tags": []
     },
     "output_type": "display_data"
    }
   ],
   "source": [
    "corr = data.corr()\n",
    "plt.figure(figsize = (8,6))\n",
    "sns.heatmap(corr, cmap=\"YlGnBu\")\n",
    "plt.title('a heatmap indicating correlation between the variables')"
   ]
  },
  {
   "cell_type": "markdown",
   "metadata": {
    "colab_type": "text",
    "id": "4uEP_VbTfjjm"
   },
   "source": [
    "Most of these features are categorical, so we don't expect any correlation whatsoever."
   ]
  },
  {
   "cell_type": "markdown",
   "metadata": {
    "colab_type": "text",
    "id": "7uUOxK6Fjlok"
   },
   "source": [
    "### 5.2 Pair Plots (Bivariate Analysis)"
   ]
  },
  {
   "cell_type": "code",
   "execution_count": 27,
   "metadata": {
    "colab": {
     "base_uri": "https://localhost:8080/",
     "height": 312
    },
    "colab_type": "code",
    "id": "qjQDv5rujour",
    "outputId": "510f4585-3ab4-48fa-b5b2-b3e258dc87a0"
   },
   "outputs": [
    {
     "data": {
      "text/plain": [
       "Text(0.5, 1.0, 'Scatter plot showing relationship between yes and no')"
      ]
     },
     "execution_count": 27,
     "metadata": {
      "tags": []
     },
     "output_type": "execute_result"
    },
    {
     "data": {
      "image/png": "[encoded data removed]",
      "text/plain": [
       "<Figure size 432x288 with 1 Axes>"
      ]
     },
     "metadata": {
      "needs_background": "light",
      "tags": []
     },
     "output_type": "display_data"
    }
   ],
   "source": [
    "# yes vs no\n",
    "plt.figure(figsize=(6, 4))\n",
    "sns.scatterplot(data = data, x='yes', y='no')\n",
    "plt.title('Scatter plot showing relationship between yes and no')"
   ]
  },
  {
   "cell_type": "code",
   "execution_count": 28,
   "metadata": {
    "colab": {},
    "colab_type": "code",
    "id": "jodz1GEbst9l"
   },
   "outputs": [],
   "source": [
    "# encode the categorical features in order to be able to plot them\n",
    "df = data.copy()   # make a copy to void tempering with the original one\n",
    "columns = [1, 3, 4]\n",
    "for col in columns:\n",
    "    x = df.iloc[:, col].values\n",
    "    x = x.reshape(-1,1)\n",
    "    encoder = LabelEncoder()\n",
    "    encoder = encoder.fit(x)\n",
    "    x = encoder.transform(x)\n",
    "    df.iloc[:, col] = x "
   ]
  },
  {
   "cell_type": "code",
   "execution_count": 29,
   "metadata": {
    "colab": {
     "base_uri": "https://localhost:8080/",
     "height": 313
    },
    "colab_type": "code",
    "id": "0js7y-oij0YN",
    "outputId": "c757c487-3359-44d7-a430-b7b8b5b5a5c9"
   },
   "outputs": [
    {
     "data": {
      "text/plain": [
       "Text(0.5, 1.0, 'Scatter plot showing relationship between device_make and browser')"
      ]
     },
     "execution_count": 29,
     "metadata": {
      "tags": []
     },
     "output_type": "execute_result"
    },
    {
     "data": {
      "image/png": "[encoded data removed]",
      "text/plain": [
       "<Figure size 432x288 with 1 Axes>"
      ]
     },
     "metadata": {
      "needs_background": "light",
      "tags": []
     },
     "output_type": "display_data"
    }
   ],
   "source": [
    "# device vs browser\n",
    "plt.figure(figsize=(6, 4))\n",
    "sns.scatterplot(data = df, x='device_make', y='browser')\n",
    "plt.title('Scatter plot showing relationship between device_make and browser')"
   ]
  },
  {
   "cell_type": "markdown",
   "metadata": {
    "colab_type": "text",
    "id": "76jRmau4uSMQ"
   },
   "source": [
    "No linear relationship.\n"
   ]
  },
  {
   "cell_type": "code",
   "execution_count": 30,
   "metadata": {
    "colab": {
     "base_uri": "https://localhost:8080/",
     "height": 313
    },
    "colab_type": "code",
    "id": "s0_9i9A1j0d7",
    "outputId": "e4b3ba1e-74d0-4d11-b66b-ad84b4fed05f"
   },
   "outputs": [
    {
     "data": {
      "text/plain": [
       "Text(0.5, 1.0, 'Scatter plot showing relationship between device_make and os')"
      ]
     },
     "execution_count": 30,
     "metadata": {
      "tags": []
     },
     "output_type": "execute_result"
    },
    {
     "data": {
      "image/png": "[encoded data removed]",
      "text/plain": [
       "<Figure size 432x288 with 1 Axes>"
      ]
     },
     "metadata": {
      "needs_background": "light",
      "tags": []
     },
     "output_type": "display_data"
    }
   ],
   "source": [
    "# device  vs os\n",
    "plt.figure(figsize=(6, 4))\n",
    "sns.scatterplot(data = df, x='device_make', y='platform_os')\n",
    "plt.title('Scatter plot showing relationship between device_make and os')"
   ]
  },
  {
   "cell_type": "markdown",
   "metadata": {
    "colab_type": "text",
    "id": "-SBsGEVnuKqA"
   },
   "source": [
    "The common platform os is '6'.\n",
    "\n",
    "No linear relationship.\n"
   ]
  },
  {
   "cell_type": "code",
   "execution_count": 31,
   "metadata": {
    "colab": {
     "base_uri": "https://localhost:8080/",
     "height": 312
    },
    "colab_type": "code",
    "id": "dKHGRJDLj0jd",
    "outputId": "fc74f909-d1b1-4642-e1d4-d971578f9e28"
   },
   "outputs": [
    {
     "data": {
      "text/plain": [
       "Text(0.5, 1.0, 'Scatter plot showing relationship between browser and os')"
      ]
     },
     "execution_count": 31,
     "metadata": {
      "tags": []
     },
     "output_type": "execute_result"
    },
    {
     "data": {
      "image/png": "[encoded data removed]",
      "text/plain": [
       "<Figure size 432x288 with 1 Axes>"
      ]
     },
     "metadata": {
      "needs_background": "light",
      "tags": []
     },
     "output_type": "display_data"
    }
   ],
   "source": [
    "# os vs browser\n",
    "plt.figure(figsize=(6, 4))\n",
    "sns.scatterplot(data = df, x='browser', y='platform_os')\n",
    "plt.title('Scatter plot showing relationship between browser and os')"
   ]
  },
  {
   "cell_type": "markdown",
   "metadata": {
    "colab_type": "text",
    "id": "E542kEyTt8PI"
   },
   "source": [
    "The common platform os is '6'. \n",
    "\n",
    "No linear relationship."
   ]
  },
  {
   "cell_type": "code",
   "execution_count": 32,
   "metadata": {
    "colab": {
     "base_uri": "https://localhost:8080/",
     "height": 312
    },
    "colab_type": "code",
    "id": "aYZ20-BCj-Ya",
    "outputId": "774f4333-1dd0-4810-b48b-f19e5d61b2e1"
   },
   "outputs": [
    {
     "data": {
      "text/plain": [
       "Text(0.5, 1.0, 'Scatter plot showing relationship between hour and yes')"
      ]
     },
     "execution_count": 32,
     "metadata": {
      "tags": []
     },
     "output_type": "execute_result"
    },
    {
     "data": {
      "image/png": "[encoded data removed]",
      "text/plain": [
       "<Figure size 432x288 with 1 Axes>"
      ]
     },
     "metadata": {
      "needs_background": "light",
      "tags": []
     },
     "output_type": "display_data"
    }
   ],
   "source": [
    "# hour vs yes\n",
    "plt.figure(figsize=(6, 4))\n",
    "sns.scatterplot(data = df, x='hour', y='yes')\n",
    "plt.title('Scatter plot showing relationship between hour and yes')"
   ]
  },
  {
   "cell_type": "markdown",
   "metadata": {
    "colab_type": "text",
    "id": "k03O8fH1t2Ik"
   },
   "source": [
    "The yes column has only 0s and 1s.\n",
    "\n",
    "No linear relationship."
   ]
  },
  {
   "cell_type": "code",
   "execution_count": 33,
   "metadata": {
    "colab": {
     "base_uri": "https://localhost:8080/",
     "height": 312
    },
    "colab_type": "code",
    "id": "8NFzbdVHj-bw",
    "outputId": "e9e53eb2-d468-47d2-c238-7f3e05e0a378"
   },
   "outputs": [
    {
     "data": {
      "text/plain": [
       "Text(0.5, 1.0, 'Scatter plot showing relationship between hour and no')"
      ]
     },
     "execution_count": 33,
     "metadata": {
      "tags": []
     },
     "output_type": "execute_result"
    },
    {
     "data": {
      "image/png": "[encoded data removed]",
      "text/plain": [
       "<Figure size 432x288 with 1 Axes>"
      ]
     },
     "metadata": {
      "needs_background": "light",
      "tags": []
     },
     "output_type": "display_data"
    }
   ],
   "source": [
    "# hour vs no\n",
    "plt.figure(figsize=(6, 4))\n",
    "sns.scatterplot(data = df, x='hour', y='no')\n",
    "plt.title('Scatter plot showing relationship between hour and no')"
   ]
  },
  {
   "cell_type": "markdown",
   "metadata": {
    "colab_type": "text",
    "id": "92jmuf6HtxYO"
   },
   "source": [
    "Again: the no only has 0 and 1 values.\n",
    "\n",
    "No linear relationship."
   ]
  },
  {
   "cell_type": "code",
   "execution_count": 34,
   "metadata": {
    "colab": {},
    "colab_type": "code",
    "id": "S71aFW3CGHmz"
   },
   "outputs": [],
   "source": [
    "# generate the requirements file\n",
    "!pip freeze > requirements.txt"
   ]
  }
 ],
 "metadata": {
  "colab": {
   "collapsed_sections": [],
   "name": "eda_latest.ipynb",
   "provenance": [],
   "toc_visible": true
  },
  "kernelspec": {
   "display_name": "Python 3",
   "language": "python",
   "name": "python3"
  },
  "language_info": {
   "codemirror_mode": {
    "name": "ipython",
    "version": 3
   },
   "file_extension": ".py",
   "mimetype": "text/x-python",
   "name": "python",
   "nbconvert_exporter": "python",
   "pygments_lexer": "ipython3",
   "version": "3.7.4"
  }
 },
 "nbformat": 4,
 "nbformat_minor": 4
}
